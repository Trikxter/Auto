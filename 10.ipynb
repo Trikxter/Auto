{
 "cells": [
  {
   "cell_type": "markdown",
   "metadata": {},
   "source": [
    "# Определение стоимости автомобилей"
   ]
  },
  {
   "cell_type": "markdown",
   "metadata": {},
   "source": [
    "Сервис по продаже автомобилей с пробегом «Не бит, не крашен» разрабатывает приложение для привлечения новых клиентов. В нём можно быстро узнать рыночную стоимость своего автомобиля. В вашем распоряжении исторические данные: технические характеристики, комплектации и цены автомобилей. Вам нужно построить модель для определения стоимости. \n",
    "\n",
    "Заказчику важны:\n",
    "\n",
    "- качество предсказания;\n",
    "- скорость предсказания;\n",
    "- время обучения."
   ]
  },
  {
   "cell_type": "markdown",
   "metadata": {},
   "source": [
    "Описание данных\n",
    "Данные находятся в файле /datasets/autos.csv.\n",
    "\n",
    "Признаки\n",
    "**DateCrawled** — дата скачивания анкеты из базы\n",
    "\n",
    "**VehicleType** — тип автомобильного кузова\n",
    "\n",
    "**RegistrationYear** — год регистрации автомобиля\n",
    "\n",
    "**Gearbox** — тип коробки передач\n",
    "\n",
    "**Power** — мощность (л. с.)\n",
    "\n",
    "**Model** — модель автомобиля\n",
    "\n",
    "**Kilometer**  — пробег (км)\n",
    "\n",
    "**RegistrationMonth** — месяц регистрации автомобиля\n",
    "\n",
    "**FuelType** — тип топлива\n",
    "\n",
    "**Brand** — марка автомобиля\n",
    "\n",
    "**NotRepaired** — была машина в ремонте или нет\n",
    "\n",
    "**DateCreated** — дата создания анкеты\n",
    "\n",
    "**NumberOfPictures** — количество фотографий автомобиля\n",
    "\n",
    "**PostalCode** — почтовый индекс владельца анкеты (пользователя)\n",
    "\n",
    "**LastSeen** — дата последней активности пользователя\n",
    "\n",
    "Целевой признак:\n",
    "**Price** — цена (евро)"
   ]
  },
  {
   "cell_type": "markdown",
   "metadata": {},
   "source": [
    "## Подготовка данных"
   ]
  },
  {
   "cell_type": "markdown",
   "metadata": {},
   "source": [
    "Импортируем необходимые нам библиотеки"
   ]
  },
  {
   "cell_type": "code",
   "execution_count": 1,
   "metadata": {},
   "outputs": [],
   "source": [
    "import pandas as pd\n",
    "import numpy as np\n",
    "from sklearn.metrics import r2_score\n",
    "import lightgbm as lgb\n",
    "from sklearn.model_selection import train_test_split\n",
    "from sklearn.datasets import load_boston\n",
    "from sklearn.ensemble import RandomForestRegressor\n",
    "from sklearn.metrics import f1_score\n",
    "from sklearn.metrics import roc_auc_score\n",
    "from sklearn.metrics import mean_squared_error\n",
    "from sklearn.linear_model import LinearRegression\n",
    "from sklearn.preprocessing import OrdinalEncoder \n",
    "from catboost import CatBoostRegressor\n",
    "import time"
   ]
  },
  {
   "cell_type": "markdown",
   "metadata": {},
   "source": [
    "Прочитаем наш датасет"
   ]
  },
  {
   "cell_type": "code",
   "execution_count": 2,
   "metadata": {},
   "outputs": [],
   "source": [
    "data = pd.read_csv('/datasets/autos.csv')"
   ]
  },
  {
   "cell_type": "code",
   "execution_count": 3,
   "metadata": {},
   "outputs": [
    {
     "data": {
      "text/html": [
       "<div>\n",
       "<style scoped>\n",
       "    .dataframe tbody tr th:only-of-type {\n",
       "        vertical-align: middle;\n",
       "    }\n",
       "\n",
       "    .dataframe tbody tr th {\n",
       "        vertical-align: top;\n",
       "    }\n",
       "\n",
       "    .dataframe thead th {\n",
       "        text-align: right;\n",
       "    }\n",
       "</style>\n",
       "<table border=\"1\" class=\"dataframe\">\n",
       "  <thead>\n",
       "    <tr style=\"text-align: right;\">\n",
       "      <th></th>\n",
       "      <th>DateCrawled</th>\n",
       "      <th>Price</th>\n",
       "      <th>VehicleType</th>\n",
       "      <th>RegistrationYear</th>\n",
       "      <th>Gearbox</th>\n",
       "      <th>Power</th>\n",
       "      <th>Model</th>\n",
       "      <th>Kilometer</th>\n",
       "      <th>RegistrationMonth</th>\n",
       "      <th>FuelType</th>\n",
       "      <th>Brand</th>\n",
       "      <th>NotRepaired</th>\n",
       "      <th>DateCreated</th>\n",
       "      <th>NumberOfPictures</th>\n",
       "      <th>PostalCode</th>\n",
       "      <th>LastSeen</th>\n",
       "    </tr>\n",
       "  </thead>\n",
       "  <tbody>\n",
       "    <tr>\n",
       "      <td>0</td>\n",
       "      <td>2016-03-24 11:52:17</td>\n",
       "      <td>480</td>\n",
       "      <td>NaN</td>\n",
       "      <td>1993</td>\n",
       "      <td>manual</td>\n",
       "      <td>0</td>\n",
       "      <td>golf</td>\n",
       "      <td>150000</td>\n",
       "      <td>0</td>\n",
       "      <td>petrol</td>\n",
       "      <td>volkswagen</td>\n",
       "      <td>NaN</td>\n",
       "      <td>2016-03-24 00:00:00</td>\n",
       "      <td>0</td>\n",
       "      <td>70435</td>\n",
       "      <td>2016-04-07 03:16:57</td>\n",
       "    </tr>\n",
       "    <tr>\n",
       "      <td>1</td>\n",
       "      <td>2016-03-24 10:58:45</td>\n",
       "      <td>18300</td>\n",
       "      <td>coupe</td>\n",
       "      <td>2011</td>\n",
       "      <td>manual</td>\n",
       "      <td>190</td>\n",
       "      <td>NaN</td>\n",
       "      <td>125000</td>\n",
       "      <td>5</td>\n",
       "      <td>gasoline</td>\n",
       "      <td>audi</td>\n",
       "      <td>yes</td>\n",
       "      <td>2016-03-24 00:00:00</td>\n",
       "      <td>0</td>\n",
       "      <td>66954</td>\n",
       "      <td>2016-04-07 01:46:50</td>\n",
       "    </tr>\n",
       "    <tr>\n",
       "      <td>2</td>\n",
       "      <td>2016-03-14 12:52:21</td>\n",
       "      <td>9800</td>\n",
       "      <td>suv</td>\n",
       "      <td>2004</td>\n",
       "      <td>auto</td>\n",
       "      <td>163</td>\n",
       "      <td>grand</td>\n",
       "      <td>125000</td>\n",
       "      <td>8</td>\n",
       "      <td>gasoline</td>\n",
       "      <td>jeep</td>\n",
       "      <td>NaN</td>\n",
       "      <td>2016-03-14 00:00:00</td>\n",
       "      <td>0</td>\n",
       "      <td>90480</td>\n",
       "      <td>2016-04-05 12:47:46</td>\n",
       "    </tr>\n",
       "    <tr>\n",
       "      <td>3</td>\n",
       "      <td>2016-03-17 16:54:04</td>\n",
       "      <td>1500</td>\n",
       "      <td>small</td>\n",
       "      <td>2001</td>\n",
       "      <td>manual</td>\n",
       "      <td>75</td>\n",
       "      <td>golf</td>\n",
       "      <td>150000</td>\n",
       "      <td>6</td>\n",
       "      <td>petrol</td>\n",
       "      <td>volkswagen</td>\n",
       "      <td>no</td>\n",
       "      <td>2016-03-17 00:00:00</td>\n",
       "      <td>0</td>\n",
       "      <td>91074</td>\n",
       "      <td>2016-03-17 17:40:17</td>\n",
       "    </tr>\n",
       "    <tr>\n",
       "      <td>4</td>\n",
       "      <td>2016-03-31 17:25:20</td>\n",
       "      <td>3600</td>\n",
       "      <td>small</td>\n",
       "      <td>2008</td>\n",
       "      <td>manual</td>\n",
       "      <td>69</td>\n",
       "      <td>fabia</td>\n",
       "      <td>90000</td>\n",
       "      <td>7</td>\n",
       "      <td>gasoline</td>\n",
       "      <td>skoda</td>\n",
       "      <td>no</td>\n",
       "      <td>2016-03-31 00:00:00</td>\n",
       "      <td>0</td>\n",
       "      <td>60437</td>\n",
       "      <td>2016-04-06 10:17:21</td>\n",
       "    </tr>\n",
       "    <tr>\n",
       "      <td>5</td>\n",
       "      <td>2016-04-04 17:36:23</td>\n",
       "      <td>650</td>\n",
       "      <td>sedan</td>\n",
       "      <td>1995</td>\n",
       "      <td>manual</td>\n",
       "      <td>102</td>\n",
       "      <td>3er</td>\n",
       "      <td>150000</td>\n",
       "      <td>10</td>\n",
       "      <td>petrol</td>\n",
       "      <td>bmw</td>\n",
       "      <td>yes</td>\n",
       "      <td>2016-04-04 00:00:00</td>\n",
       "      <td>0</td>\n",
       "      <td>33775</td>\n",
       "      <td>2016-04-06 19:17:07</td>\n",
       "    </tr>\n",
       "    <tr>\n",
       "      <td>6</td>\n",
       "      <td>2016-04-01 20:48:51</td>\n",
       "      <td>2200</td>\n",
       "      <td>convertible</td>\n",
       "      <td>2004</td>\n",
       "      <td>manual</td>\n",
       "      <td>109</td>\n",
       "      <td>2_reihe</td>\n",
       "      <td>150000</td>\n",
       "      <td>8</td>\n",
       "      <td>petrol</td>\n",
       "      <td>peugeot</td>\n",
       "      <td>no</td>\n",
       "      <td>2016-04-01 00:00:00</td>\n",
       "      <td>0</td>\n",
       "      <td>67112</td>\n",
       "      <td>2016-04-05 18:18:39</td>\n",
       "    </tr>\n",
       "    <tr>\n",
       "      <td>7</td>\n",
       "      <td>2016-03-21 18:54:38</td>\n",
       "      <td>0</td>\n",
       "      <td>sedan</td>\n",
       "      <td>1980</td>\n",
       "      <td>manual</td>\n",
       "      <td>50</td>\n",
       "      <td>other</td>\n",
       "      <td>40000</td>\n",
       "      <td>7</td>\n",
       "      <td>petrol</td>\n",
       "      <td>volkswagen</td>\n",
       "      <td>no</td>\n",
       "      <td>2016-03-21 00:00:00</td>\n",
       "      <td>0</td>\n",
       "      <td>19348</td>\n",
       "      <td>2016-03-25 16:47:58</td>\n",
       "    </tr>\n",
       "    <tr>\n",
       "      <td>8</td>\n",
       "      <td>2016-04-04 23:42:13</td>\n",
       "      <td>14500</td>\n",
       "      <td>bus</td>\n",
       "      <td>2014</td>\n",
       "      <td>manual</td>\n",
       "      <td>125</td>\n",
       "      <td>c_max</td>\n",
       "      <td>30000</td>\n",
       "      <td>8</td>\n",
       "      <td>petrol</td>\n",
       "      <td>ford</td>\n",
       "      <td>NaN</td>\n",
       "      <td>2016-04-04 00:00:00</td>\n",
       "      <td>0</td>\n",
       "      <td>94505</td>\n",
       "      <td>2016-04-04 23:42:13</td>\n",
       "    </tr>\n",
       "    <tr>\n",
       "      <td>9</td>\n",
       "      <td>2016-03-17 10:53:50</td>\n",
       "      <td>999</td>\n",
       "      <td>small</td>\n",
       "      <td>1998</td>\n",
       "      <td>manual</td>\n",
       "      <td>101</td>\n",
       "      <td>golf</td>\n",
       "      <td>150000</td>\n",
       "      <td>0</td>\n",
       "      <td>NaN</td>\n",
       "      <td>volkswagen</td>\n",
       "      <td>NaN</td>\n",
       "      <td>2016-03-17 00:00:00</td>\n",
       "      <td>0</td>\n",
       "      <td>27472</td>\n",
       "      <td>2016-03-31 17:17:06</td>\n",
       "    </tr>\n",
       "    <tr>\n",
       "      <td>10</td>\n",
       "      <td>2016-03-26 19:54:18</td>\n",
       "      <td>2000</td>\n",
       "      <td>sedan</td>\n",
       "      <td>2004</td>\n",
       "      <td>manual</td>\n",
       "      <td>105</td>\n",
       "      <td>3_reihe</td>\n",
       "      <td>150000</td>\n",
       "      <td>12</td>\n",
       "      <td>petrol</td>\n",
       "      <td>mazda</td>\n",
       "      <td>no</td>\n",
       "      <td>2016-03-26 00:00:00</td>\n",
       "      <td>0</td>\n",
       "      <td>96224</td>\n",
       "      <td>2016-04-06 10:45:34</td>\n",
       "    </tr>\n",
       "    <tr>\n",
       "      <td>11</td>\n",
       "      <td>2016-04-07 10:06:22</td>\n",
       "      <td>2799</td>\n",
       "      <td>wagon</td>\n",
       "      <td>2005</td>\n",
       "      <td>manual</td>\n",
       "      <td>140</td>\n",
       "      <td>passat</td>\n",
       "      <td>150000</td>\n",
       "      <td>12</td>\n",
       "      <td>gasoline</td>\n",
       "      <td>volkswagen</td>\n",
       "      <td>yes</td>\n",
       "      <td>2016-04-07 00:00:00</td>\n",
       "      <td>0</td>\n",
       "      <td>57290</td>\n",
       "      <td>2016-04-07 10:25:17</td>\n",
       "    </tr>\n",
       "    <tr>\n",
       "      <td>12</td>\n",
       "      <td>2016-03-15 22:49:09</td>\n",
       "      <td>999</td>\n",
       "      <td>wagon</td>\n",
       "      <td>1995</td>\n",
       "      <td>manual</td>\n",
       "      <td>115</td>\n",
       "      <td>passat</td>\n",
       "      <td>150000</td>\n",
       "      <td>11</td>\n",
       "      <td>petrol</td>\n",
       "      <td>volkswagen</td>\n",
       "      <td>NaN</td>\n",
       "      <td>2016-03-15 00:00:00</td>\n",
       "      <td>0</td>\n",
       "      <td>37269</td>\n",
       "      <td>2016-04-01 13:16:16</td>\n",
       "    </tr>\n",
       "    <tr>\n",
       "      <td>13</td>\n",
       "      <td>2016-03-21 21:37:40</td>\n",
       "      <td>2500</td>\n",
       "      <td>wagon</td>\n",
       "      <td>2004</td>\n",
       "      <td>manual</td>\n",
       "      <td>131</td>\n",
       "      <td>passat</td>\n",
       "      <td>150000</td>\n",
       "      <td>2</td>\n",
       "      <td>NaN</td>\n",
       "      <td>volkswagen</td>\n",
       "      <td>no</td>\n",
       "      <td>2016-03-21 00:00:00</td>\n",
       "      <td>0</td>\n",
       "      <td>90762</td>\n",
       "      <td>2016-03-23 02:50:54</td>\n",
       "    </tr>\n",
       "    <tr>\n",
       "      <td>14</td>\n",
       "      <td>2016-03-21 12:57:01</td>\n",
       "      <td>17999</td>\n",
       "      <td>suv</td>\n",
       "      <td>2011</td>\n",
       "      <td>manual</td>\n",
       "      <td>190</td>\n",
       "      <td>navara</td>\n",
       "      <td>70000</td>\n",
       "      <td>3</td>\n",
       "      <td>gasoline</td>\n",
       "      <td>nissan</td>\n",
       "      <td>no</td>\n",
       "      <td>2016-03-21 00:00:00</td>\n",
       "      <td>0</td>\n",
       "      <td>4177</td>\n",
       "      <td>2016-04-06 07:45:42</td>\n",
       "    </tr>\n",
       "    <tr>\n",
       "      <td>15</td>\n",
       "      <td>2016-03-11 21:39:15</td>\n",
       "      <td>450</td>\n",
       "      <td>small</td>\n",
       "      <td>1910</td>\n",
       "      <td>NaN</td>\n",
       "      <td>0</td>\n",
       "      <td>ka</td>\n",
       "      <td>5000</td>\n",
       "      <td>0</td>\n",
       "      <td>petrol</td>\n",
       "      <td>ford</td>\n",
       "      <td>NaN</td>\n",
       "      <td>2016-03-11 00:00:00</td>\n",
       "      <td>0</td>\n",
       "      <td>24148</td>\n",
       "      <td>2016-03-19 08:46:47</td>\n",
       "    </tr>\n",
       "    <tr>\n",
       "      <td>16</td>\n",
       "      <td>2016-04-01 12:46:46</td>\n",
       "      <td>300</td>\n",
       "      <td>NaN</td>\n",
       "      <td>2016</td>\n",
       "      <td>NaN</td>\n",
       "      <td>60</td>\n",
       "      <td>polo</td>\n",
       "      <td>150000</td>\n",
       "      <td>0</td>\n",
       "      <td>petrol</td>\n",
       "      <td>volkswagen</td>\n",
       "      <td>NaN</td>\n",
       "      <td>2016-04-01 00:00:00</td>\n",
       "      <td>0</td>\n",
       "      <td>38871</td>\n",
       "      <td>2016-04-01 12:46:46</td>\n",
       "    </tr>\n",
       "    <tr>\n",
       "      <td>17</td>\n",
       "      <td>2016-03-20 10:25:19</td>\n",
       "      <td>1750</td>\n",
       "      <td>small</td>\n",
       "      <td>2004</td>\n",
       "      <td>auto</td>\n",
       "      <td>75</td>\n",
       "      <td>twingo</td>\n",
       "      <td>150000</td>\n",
       "      <td>2</td>\n",
       "      <td>petrol</td>\n",
       "      <td>renault</td>\n",
       "      <td>no</td>\n",
       "      <td>2016-03-20 00:00:00</td>\n",
       "      <td>0</td>\n",
       "      <td>65599</td>\n",
       "      <td>2016-04-06 13:16:07</td>\n",
       "    </tr>\n",
       "    <tr>\n",
       "      <td>18</td>\n",
       "      <td>2016-03-23 15:48:05</td>\n",
       "      <td>7550</td>\n",
       "      <td>bus</td>\n",
       "      <td>2007</td>\n",
       "      <td>manual</td>\n",
       "      <td>136</td>\n",
       "      <td>c_max</td>\n",
       "      <td>150000</td>\n",
       "      <td>6</td>\n",
       "      <td>gasoline</td>\n",
       "      <td>ford</td>\n",
       "      <td>no</td>\n",
       "      <td>2016-03-23 00:00:00</td>\n",
       "      <td>0</td>\n",
       "      <td>88361</td>\n",
       "      <td>2016-04-05 18:45:11</td>\n",
       "    </tr>\n",
       "    <tr>\n",
       "      <td>19</td>\n",
       "      <td>2016-04-01 22:55:47</td>\n",
       "      <td>1850</td>\n",
       "      <td>bus</td>\n",
       "      <td>2004</td>\n",
       "      <td>manual</td>\n",
       "      <td>102</td>\n",
       "      <td>a_klasse</td>\n",
       "      <td>150000</td>\n",
       "      <td>1</td>\n",
       "      <td>petrol</td>\n",
       "      <td>mercedes_benz</td>\n",
       "      <td>no</td>\n",
       "      <td>2016-04-01 00:00:00</td>\n",
       "      <td>0</td>\n",
       "      <td>49565</td>\n",
       "      <td>2016-04-05 22:46:05</td>\n",
       "    </tr>\n",
       "  </tbody>\n",
       "</table>\n",
       "</div>"
      ],
      "text/plain": [
       "            DateCrawled  Price  VehicleType  RegistrationYear Gearbox  Power  \\\n",
       "0   2016-03-24 11:52:17    480          NaN              1993  manual      0   \n",
       "1   2016-03-24 10:58:45  18300        coupe              2011  manual    190   \n",
       "2   2016-03-14 12:52:21   9800          suv              2004    auto    163   \n",
       "3   2016-03-17 16:54:04   1500        small              2001  manual     75   \n",
       "4   2016-03-31 17:25:20   3600        small              2008  manual     69   \n",
       "5   2016-04-04 17:36:23    650        sedan              1995  manual    102   \n",
       "6   2016-04-01 20:48:51   2200  convertible              2004  manual    109   \n",
       "7   2016-03-21 18:54:38      0        sedan              1980  manual     50   \n",
       "8   2016-04-04 23:42:13  14500          bus              2014  manual    125   \n",
       "9   2016-03-17 10:53:50    999        small              1998  manual    101   \n",
       "10  2016-03-26 19:54:18   2000        sedan              2004  manual    105   \n",
       "11  2016-04-07 10:06:22   2799        wagon              2005  manual    140   \n",
       "12  2016-03-15 22:49:09    999        wagon              1995  manual    115   \n",
       "13  2016-03-21 21:37:40   2500        wagon              2004  manual    131   \n",
       "14  2016-03-21 12:57:01  17999          suv              2011  manual    190   \n",
       "15  2016-03-11 21:39:15    450        small              1910     NaN      0   \n",
       "16  2016-04-01 12:46:46    300          NaN              2016     NaN     60   \n",
       "17  2016-03-20 10:25:19   1750        small              2004    auto     75   \n",
       "18  2016-03-23 15:48:05   7550          bus              2007  manual    136   \n",
       "19  2016-04-01 22:55:47   1850          bus              2004  manual    102   \n",
       "\n",
       "       Model  Kilometer  RegistrationMonth  FuelType          Brand  \\\n",
       "0       golf     150000                  0    petrol     volkswagen   \n",
       "1        NaN     125000                  5  gasoline           audi   \n",
       "2      grand     125000                  8  gasoline           jeep   \n",
       "3       golf     150000                  6    petrol     volkswagen   \n",
       "4      fabia      90000                  7  gasoline          skoda   \n",
       "5        3er     150000                 10    petrol            bmw   \n",
       "6    2_reihe     150000                  8    petrol        peugeot   \n",
       "7      other      40000                  7    petrol     volkswagen   \n",
       "8      c_max      30000                  8    petrol           ford   \n",
       "9       golf     150000                  0       NaN     volkswagen   \n",
       "10   3_reihe     150000                 12    petrol          mazda   \n",
       "11    passat     150000                 12  gasoline     volkswagen   \n",
       "12    passat     150000                 11    petrol     volkswagen   \n",
       "13    passat     150000                  2       NaN     volkswagen   \n",
       "14    navara      70000                  3  gasoline         nissan   \n",
       "15        ka       5000                  0    petrol           ford   \n",
       "16      polo     150000                  0    petrol     volkswagen   \n",
       "17    twingo     150000                  2    petrol        renault   \n",
       "18     c_max     150000                  6  gasoline           ford   \n",
       "19  a_klasse     150000                  1    petrol  mercedes_benz   \n",
       "\n",
       "   NotRepaired          DateCreated  NumberOfPictures  PostalCode  \\\n",
       "0          NaN  2016-03-24 00:00:00                 0       70435   \n",
       "1          yes  2016-03-24 00:00:00                 0       66954   \n",
       "2          NaN  2016-03-14 00:00:00                 0       90480   \n",
       "3           no  2016-03-17 00:00:00                 0       91074   \n",
       "4           no  2016-03-31 00:00:00                 0       60437   \n",
       "5          yes  2016-04-04 00:00:00                 0       33775   \n",
       "6           no  2016-04-01 00:00:00                 0       67112   \n",
       "7           no  2016-03-21 00:00:00                 0       19348   \n",
       "8          NaN  2016-04-04 00:00:00                 0       94505   \n",
       "9          NaN  2016-03-17 00:00:00                 0       27472   \n",
       "10          no  2016-03-26 00:00:00                 0       96224   \n",
       "11         yes  2016-04-07 00:00:00                 0       57290   \n",
       "12         NaN  2016-03-15 00:00:00                 0       37269   \n",
       "13          no  2016-03-21 00:00:00                 0       90762   \n",
       "14          no  2016-03-21 00:00:00                 0        4177   \n",
       "15         NaN  2016-03-11 00:00:00                 0       24148   \n",
       "16         NaN  2016-04-01 00:00:00                 0       38871   \n",
       "17          no  2016-03-20 00:00:00                 0       65599   \n",
       "18          no  2016-03-23 00:00:00                 0       88361   \n",
       "19          no  2016-04-01 00:00:00                 0       49565   \n",
       "\n",
       "               LastSeen  \n",
       "0   2016-04-07 03:16:57  \n",
       "1   2016-04-07 01:46:50  \n",
       "2   2016-04-05 12:47:46  \n",
       "3   2016-03-17 17:40:17  \n",
       "4   2016-04-06 10:17:21  \n",
       "5   2016-04-06 19:17:07  \n",
       "6   2016-04-05 18:18:39  \n",
       "7   2016-03-25 16:47:58  \n",
       "8   2016-04-04 23:42:13  \n",
       "9   2016-03-31 17:17:06  \n",
       "10  2016-04-06 10:45:34  \n",
       "11  2016-04-07 10:25:17  \n",
       "12  2016-04-01 13:16:16  \n",
       "13  2016-03-23 02:50:54  \n",
       "14  2016-04-06 07:45:42  \n",
       "15  2016-03-19 08:46:47  \n",
       "16  2016-04-01 12:46:46  \n",
       "17  2016-04-06 13:16:07  \n",
       "18  2016-04-05 18:45:11  \n",
       "19  2016-04-05 22:46:05  "
      ]
     },
     "execution_count": 3,
     "metadata": {},
     "output_type": "execute_result"
    }
   ],
   "source": [
    "data.head(20)"
   ]
  },
  {
   "cell_type": "markdown",
   "metadata": {},
   "source": [
    "Переведём столбцы из строчных в категориальные с помощью метода astype"
   ]
  },
  {
   "cell_type": "code",
   "execution_count": 5,
   "metadata": {},
   "outputs": [
    {
     "name": "stdout",
     "output_type": "stream",
     "text": [
      "<class 'pandas.core.frame.DataFrame'>\n",
      "RangeIndex: 354369 entries, 0 to 354368\n",
      "Data columns (total 16 columns):\n",
      "DateCrawled          354369 non-null object\n",
      "Price                354369 non-null int64\n",
      "VehicleType          316879 non-null category\n",
      "RegistrationYear     354369 non-null int64\n",
      "Gearbox              334536 non-null category\n",
      "Power                354369 non-null int64\n",
      "Model                334664 non-null category\n",
      "Kilometer            354369 non-null int64\n",
      "RegistrationMonth    354369 non-null int64\n",
      "FuelType             321474 non-null category\n",
      "Brand                354369 non-null category\n",
      "NotRepaired          283215 non-null object\n",
      "DateCreated          354369 non-null object\n",
      "NumberOfPictures     354369 non-null int64\n",
      "PostalCode           354369 non-null int64\n",
      "LastSeen             354369 non-null object\n",
      "dtypes: category(5), int64(7), object(4)\n",
      "memory usage: 31.8+ MB\n"
     ]
    }
   ],
   "source": [
    "data['VehicleType']=data['VehicleType'].astype('category')\n",
    "data['Gearbox']=data['Gearbox'].astype('category')\n",
    "data['Model']=data['Model'].astype('category')\n",
    "data['FuelType']=data['FuelType'].astype('category')\n",
    "data['Brand'] = data['Brand'].astype('category')\n",
    "data.info()"
   ]
  },
  {
   "cell_type": "markdown",
   "metadata": {},
   "source": [
    "Наблюдаем в пяти столбцах отсутствующие значения. "
   ]
  },
  {
   "cell_type": "code",
   "execution_count": 6,
   "metadata": {},
   "outputs": [],
   "source": [
    "data = data.dropna(subset =['VehicleType'])\n",
    "data = data.dropna(subset =['Gearbox'])\n",
    "data = data.dropna(subset =['Model'])\n",
    "data = data.dropna(subset =['FuelType'])\n",
    "data = data.dropna(subset =['NotRepaired'])\n",
    "#data = data.dropna(subset =['Brand'])"
   ]
  },
  {
   "cell_type": "code",
   "execution_count": 7,
   "metadata": {},
   "outputs": [
    {
     "name": "stdout",
     "output_type": "stream",
     "text": [
      "<class 'pandas.core.frame.DataFrame'>\n",
      "Int64Index: 245814 entries, 3 to 354367\n",
      "Data columns (total 16 columns):\n",
      "DateCrawled          245814 non-null object\n",
      "Price                245814 non-null int64\n",
      "VehicleType          245814 non-null category\n",
      "RegistrationYear     245814 non-null int64\n",
      "Gearbox              245814 non-null category\n",
      "Power                245814 non-null int64\n",
      "Model                245814 non-null category\n",
      "Kilometer            245814 non-null int64\n",
      "RegistrationMonth    245814 non-null int64\n",
      "FuelType             245814 non-null category\n",
      "Brand                245814 non-null category\n",
      "NotRepaired          245814 non-null object\n",
      "DateCreated          245814 non-null object\n",
      "NumberOfPictures     245814 non-null int64\n",
      "PostalCode           245814 non-null int64\n",
      "LastSeen             245814 non-null object\n",
      "dtypes: category(5), int64(7), object(4)\n",
      "memory usage: 23.9+ MB\n"
     ]
    }
   ],
   "source": [
    "data.info()"
   ]
  },
  {
   "cell_type": "code",
   "execution_count": 8,
   "metadata": {},
   "outputs": [
    {
     "data": {
      "text/html": [
       "<div>\n",
       "<style scoped>\n",
       "    .dataframe tbody tr th:only-of-type {\n",
       "        vertical-align: middle;\n",
       "    }\n",
       "\n",
       "    .dataframe tbody tr th {\n",
       "        vertical-align: top;\n",
       "    }\n",
       "\n",
       "    .dataframe thead th {\n",
       "        text-align: right;\n",
       "    }\n",
       "</style>\n",
       "<table border=\"1\" class=\"dataframe\">\n",
       "  <thead>\n",
       "    <tr style=\"text-align: right;\">\n",
       "      <th></th>\n",
       "      <th>Price</th>\n",
       "      <th>RegistrationYear</th>\n",
       "      <th>Power</th>\n",
       "      <th>Kilometer</th>\n",
       "      <th>RegistrationMonth</th>\n",
       "      <th>NumberOfPictures</th>\n",
       "      <th>PostalCode</th>\n",
       "    </tr>\n",
       "  </thead>\n",
       "  <tbody>\n",
       "    <tr>\n",
       "      <td>count</td>\n",
       "      <td>245814.000000</td>\n",
       "      <td>245814.000000</td>\n",
       "      <td>245814.000000</td>\n",
       "      <td>245814.000000</td>\n",
       "      <td>245814.000000</td>\n",
       "      <td>245814.0</td>\n",
       "      <td>245814.000000</td>\n",
       "    </tr>\n",
       "    <tr>\n",
       "      <td>mean</td>\n",
       "      <td>5125.346717</td>\n",
       "      <td>2002.918699</td>\n",
       "      <td>119.970884</td>\n",
       "      <td>127296.716216</td>\n",
       "      <td>6.179701</td>\n",
       "      <td>0.0</td>\n",
       "      <td>51463.186002</td>\n",
       "    </tr>\n",
       "    <tr>\n",
       "      <td>std</td>\n",
       "      <td>4717.948673</td>\n",
       "      <td>6.163765</td>\n",
       "      <td>139.387116</td>\n",
       "      <td>37078.820368</td>\n",
       "      <td>3.479519</td>\n",
       "      <td>0.0</td>\n",
       "      <td>25838.058847</td>\n",
       "    </tr>\n",
       "    <tr>\n",
       "      <td>min</td>\n",
       "      <td>0.000000</td>\n",
       "      <td>1910.000000</td>\n",
       "      <td>0.000000</td>\n",
       "      <td>5000.000000</td>\n",
       "      <td>0.000000</td>\n",
       "      <td>0.0</td>\n",
       "      <td>1067.000000</td>\n",
       "    </tr>\n",
       "    <tr>\n",
       "      <td>25%</td>\n",
       "      <td>1499.000000</td>\n",
       "      <td>1999.000000</td>\n",
       "      <td>75.000000</td>\n",
       "      <td>125000.000000</td>\n",
       "      <td>3.000000</td>\n",
       "      <td>0.0</td>\n",
       "      <td>30966.000000</td>\n",
       "    </tr>\n",
       "    <tr>\n",
       "      <td>50%</td>\n",
       "      <td>3500.000000</td>\n",
       "      <td>2003.000000</td>\n",
       "      <td>110.000000</td>\n",
       "      <td>150000.000000</td>\n",
       "      <td>6.000000</td>\n",
       "      <td>0.0</td>\n",
       "      <td>50769.000000</td>\n",
       "    </tr>\n",
       "    <tr>\n",
       "      <td>75%</td>\n",
       "      <td>7500.000000</td>\n",
       "      <td>2007.000000</td>\n",
       "      <td>150.000000</td>\n",
       "      <td>150000.000000</td>\n",
       "      <td>9.000000</td>\n",
       "      <td>0.0</td>\n",
       "      <td>72379.000000</td>\n",
       "    </tr>\n",
       "    <tr>\n",
       "      <td>max</td>\n",
       "      <td>20000.000000</td>\n",
       "      <td>2018.000000</td>\n",
       "      <td>20000.000000</td>\n",
       "      <td>150000.000000</td>\n",
       "      <td>12.000000</td>\n",
       "      <td>0.0</td>\n",
       "      <td>99998.000000</td>\n",
       "    </tr>\n",
       "  </tbody>\n",
       "</table>\n",
       "</div>"
      ],
      "text/plain": [
       "               Price  RegistrationYear          Power      Kilometer  \\\n",
       "count  245814.000000     245814.000000  245814.000000  245814.000000   \n",
       "mean     5125.346717       2002.918699     119.970884  127296.716216   \n",
       "std      4717.948673          6.163765     139.387116   37078.820368   \n",
       "min         0.000000       1910.000000       0.000000    5000.000000   \n",
       "25%      1499.000000       1999.000000      75.000000  125000.000000   \n",
       "50%      3500.000000       2003.000000     110.000000  150000.000000   \n",
       "75%      7500.000000       2007.000000     150.000000  150000.000000   \n",
       "max     20000.000000       2018.000000   20000.000000  150000.000000   \n",
       "\n",
       "       RegistrationMonth  NumberOfPictures     PostalCode  \n",
       "count      245814.000000          245814.0  245814.000000  \n",
       "mean            6.179701               0.0   51463.186002  \n",
       "std             3.479519               0.0   25838.058847  \n",
       "min             0.000000               0.0    1067.000000  \n",
       "25%             3.000000               0.0   30966.000000  \n",
       "50%             6.000000               0.0   50769.000000  \n",
       "75%             9.000000               0.0   72379.000000  \n",
       "max            12.000000               0.0   99998.000000  "
      ]
     },
     "execution_count": 8,
     "metadata": {},
     "output_type": "execute_result"
    }
   ],
   "source": [
    "data.describe()"
   ]
  },
  {
   "cell_type": "markdown",
   "metadata": {},
   "source": [
    "Наблюдаем нулевые и аномальные значения. Сделаем срез, где их не наблюдается."
   ]
  },
  {
   "cell_type": "code",
   "execution_count": 9,
   "metadata": {},
   "outputs": [
    {
     "data": {
      "text/html": [
       "<div>\n",
       "<style scoped>\n",
       "    .dataframe tbody tr th:only-of-type {\n",
       "        vertical-align: middle;\n",
       "    }\n",
       "\n",
       "    .dataframe tbody tr th {\n",
       "        vertical-align: top;\n",
       "    }\n",
       "\n",
       "    .dataframe thead th {\n",
       "        text-align: right;\n",
       "    }\n",
       "</style>\n",
       "<table border=\"1\" class=\"dataframe\">\n",
       "  <thead>\n",
       "    <tr style=\"text-align: right;\">\n",
       "      <th></th>\n",
       "      <th>Price</th>\n",
       "      <th>RegistrationYear</th>\n",
       "      <th>Power</th>\n",
       "      <th>Kilometer</th>\n",
       "      <th>RegistrationMonth</th>\n",
       "      <th>NumberOfPictures</th>\n",
       "      <th>PostalCode</th>\n",
       "    </tr>\n",
       "  </thead>\n",
       "  <tbody>\n",
       "    <tr>\n",
       "      <td>count</td>\n",
       "      <td>126270.000000</td>\n",
       "      <td>126270.000000</td>\n",
       "      <td>126270.000000</td>\n",
       "      <td>126270.000000</td>\n",
       "      <td>126270.000000</td>\n",
       "      <td>126270.0</td>\n",
       "      <td>126270.000000</td>\n",
       "    </tr>\n",
       "    <tr>\n",
       "      <td>mean</td>\n",
       "      <td>6744.351216</td>\n",
       "      <td>2005.295739</td>\n",
       "      <td>130.636818</td>\n",
       "      <td>123914.627386</td>\n",
       "      <td>6.418833</td>\n",
       "      <td>0.0</td>\n",
       "      <td>52614.611689</td>\n",
       "    </tr>\n",
       "    <tr>\n",
       "      <td>std</td>\n",
       "      <td>4450.430292</td>\n",
       "      <td>4.647867</td>\n",
       "      <td>30.282040</td>\n",
       "      <td>38546.797422</td>\n",
       "      <td>3.347015</td>\n",
       "      <td>0.0</td>\n",
       "      <td>25878.734416</td>\n",
       "    </tr>\n",
       "    <tr>\n",
       "      <td>min</td>\n",
       "      <td>1506.000000</td>\n",
       "      <td>1991.000000</td>\n",
       "      <td>76.000000</td>\n",
       "      <td>5000.000000</td>\n",
       "      <td>1.000000</td>\n",
       "      <td>0.0</td>\n",
       "      <td>1067.000000</td>\n",
       "    </tr>\n",
       "    <tr>\n",
       "      <td>25%</td>\n",
       "      <td>3190.000000</td>\n",
       "      <td>2002.000000</td>\n",
       "      <td>105.000000</td>\n",
       "      <td>100000.000000</td>\n",
       "      <td>4.000000</td>\n",
       "      <td>0.0</td>\n",
       "      <td>32105.000000</td>\n",
       "    </tr>\n",
       "    <tr>\n",
       "      <td>50%</td>\n",
       "      <td>5500.000000</td>\n",
       "      <td>2006.000000</td>\n",
       "      <td>130.000000</td>\n",
       "      <td>150000.000000</td>\n",
       "      <td>6.000000</td>\n",
       "      <td>0.0</td>\n",
       "      <td>52146.000000</td>\n",
       "    </tr>\n",
       "    <tr>\n",
       "      <td>75%</td>\n",
       "      <td>9199.750000</td>\n",
       "      <td>2009.000000</td>\n",
       "      <td>150.000000</td>\n",
       "      <td>150000.000000</td>\n",
       "      <td>9.000000</td>\n",
       "      <td>0.0</td>\n",
       "      <td>73479.000000</td>\n",
       "    </tr>\n",
       "    <tr>\n",
       "      <td>max</td>\n",
       "      <td>20000.000000</td>\n",
       "      <td>2018.000000</td>\n",
       "      <td>199.000000</td>\n",
       "      <td>150000.000000</td>\n",
       "      <td>12.000000</td>\n",
       "      <td>0.0</td>\n",
       "      <td>99998.000000</td>\n",
       "    </tr>\n",
       "  </tbody>\n",
       "</table>\n",
       "</div>"
      ],
      "text/plain": [
       "               Price  RegistrationYear          Power      Kilometer  \\\n",
       "count  126270.000000     126270.000000  126270.000000  126270.000000   \n",
       "mean     6744.351216       2005.295739     130.636818  123914.627386   \n",
       "std      4450.430292          4.647867      30.282040   38546.797422   \n",
       "min      1506.000000       1991.000000      76.000000    5000.000000   \n",
       "25%      3190.000000       2002.000000     105.000000  100000.000000   \n",
       "50%      5500.000000       2006.000000     130.000000  150000.000000   \n",
       "75%      9199.750000       2009.000000     150.000000  150000.000000   \n",
       "max     20000.000000       2018.000000     199.000000  150000.000000   \n",
       "\n",
       "       RegistrationMonth  NumberOfPictures     PostalCode  \n",
       "count      126270.000000          126270.0  126270.000000  \n",
       "mean            6.418833               0.0   52614.611689  \n",
       "std             3.347015               0.0   25878.734416  \n",
       "min             1.000000               0.0    1067.000000  \n",
       "25%             4.000000               0.0   32105.000000  \n",
       "50%             6.000000               0.0   52146.000000  \n",
       "75%             9.000000               0.0   73479.000000  \n",
       "max            12.000000               0.0   99998.000000  "
      ]
     },
     "execution_count": 9,
     "metadata": {},
     "output_type": "execute_result"
    }
   ],
   "source": [
    "data1 = data.query('Price>1500 & RegistrationYear > 1990 & RegistrationMonth > 0 & Power > 75 & Power < 200' )\n",
    "data1.describe()"
   ]
  },
  {
   "cell_type": "code",
   "execution_count": 10,
   "metadata": {},
   "outputs": [
    {
     "name": "stdout",
     "output_type": "stream",
     "text": [
      "<class 'pandas.core.frame.DataFrame'>\n",
      "Int64Index: 126270 entries, 6 to 354367\n",
      "Data columns (total 16 columns):\n",
      "DateCrawled          126270 non-null object\n",
      "Price                126270 non-null int64\n",
      "VehicleType          126270 non-null category\n",
      "RegistrationYear     126270 non-null int64\n",
      "Gearbox              126270 non-null category\n",
      "Power                126270 non-null int64\n",
      "Model                126270 non-null category\n",
      "Kilometer            126270 non-null int64\n",
      "RegistrationMonth    126270 non-null int64\n",
      "FuelType             126270 non-null category\n",
      "Brand                126270 non-null category\n",
      "NotRepaired          126270 non-null object\n",
      "DateCreated          126270 non-null object\n",
      "NumberOfPictures     126270 non-null int64\n",
      "PostalCode           126270 non-null int64\n",
      "LastSeen             126270 non-null object\n",
      "dtypes: category(5), int64(7), object(4)\n",
      "memory usage: 12.3+ MB\n"
     ]
    }
   ],
   "source": [
    "data1.info()"
   ]
  },
  {
   "cell_type": "markdown",
   "metadata": {},
   "source": [
    "Построим модель кэтбустинга на исходных данных"
   ]
  },
  {
   "cell_type": "code",
   "execution_count": 11,
   "metadata": {},
   "outputs": [],
   "source": [
    "#def f(x):\n",
    "#    return x+2\n",
    "#print(f(5))"
   ]
  },
  {
   "cell_type": "code",
   "execution_count": 12,
   "metadata": {},
   "outputs": [],
   "source": [
    "from sklearn.metrics import r2_score\n"
   ]
  },
  {
   "cell_type": "code",
   "execution_count": 13,
   "metadata": {},
   "outputs": [
    {
     "name": "stdout",
     "output_type": "stream",
     "text": [
      "0:\tlearn: 4367.9291966\ttotal: 159ms\tremaining: 23.6s\n",
      "10:\tlearn: 3638.8987507\ttotal: 1.75s\tremaining: 22.2s\n",
      "20:\tlearn: 3145.5586439\ttotal: 3.34s\tremaining: 20.5s\n",
      "30:\tlearn: 2761.5590417\ttotal: 4.93s\tremaining: 18.9s\n",
      "40:\tlearn: 2502.5950986\ttotal: 6.52s\tremaining: 17.3s\n",
      "50:\tlearn: 2329.2195178\ttotal: 8.02s\tremaining: 15.6s\n",
      "60:\tlearn: 2209.4527059\ttotal: 9.51s\tremaining: 13.9s\n",
      "70:\tlearn: 2127.3850483\ttotal: 11s\tremaining: 12.2s\n",
      "80:\tlearn: 2054.4805982\ttotal: 12.5s\tremaining: 10.6s\n",
      "90:\tlearn: 2003.1515380\ttotal: 13.9s\tremaining: 9.01s\n",
      "100:\tlearn: 1966.8699776\ttotal: 15.4s\tremaining: 7.46s\n",
      "110:\tlearn: 1939.2818000\ttotal: 16.8s\tremaining: 5.89s\n",
      "120:\tlearn: 1916.0747581\ttotal: 18.2s\tremaining: 4.35s\n",
      "130:\tlearn: 1898.3651970\ttotal: 19.6s\tremaining: 2.84s\n",
      "140:\tlearn: 1883.3441008\ttotal: 21s\tremaining: 1.34s\n",
      "149:\tlearn: 1871.4430344\ttotal: 22.3s\tremaining: 0us\n",
      "0:\tlearn: 4367.9291966\ttotal: 33.7ms\tremaining: 5.02s\n",
      "10:\tlearn: 3638.8987507\ttotal: 1.62s\tremaining: 20.5s\n",
      "20:\tlearn: 3145.5586439\ttotal: 3.12s\tremaining: 19.2s\n",
      "30:\tlearn: 2761.5590417\ttotal: 4.62s\tremaining: 17.7s\n",
      "40:\tlearn: 2502.5950986\ttotal: 6.11s\tremaining: 16.2s\n",
      "50:\tlearn: 2329.2195178\ttotal: 7.7s\tremaining: 14.9s\n",
      "60:\tlearn: 2209.4527059\ttotal: 9.19s\tremaining: 13.4s\n",
      "70:\tlearn: 2127.3850483\ttotal: 10.7s\tremaining: 11.9s\n",
      "80:\tlearn: 2054.4805982\ttotal: 12.2s\tremaining: 10.4s\n",
      "90:\tlearn: 2003.1515380\ttotal: 13.7s\tremaining: 8.87s\n",
      "100:\tlearn: 1966.8699776\ttotal: 15.2s\tremaining: 7.36s\n",
      "110:\tlearn: 1939.2818000\ttotal: 16.7s\tremaining: 5.85s\n",
      "120:\tlearn: 1916.0747581\ttotal: 18.2s\tremaining: 4.35s\n",
      "130:\tlearn: 1898.3651970\ttotal: 19.6s\tremaining: 2.83s\n",
      "140:\tlearn: 1883.3441008\ttotal: 21s\tremaining: 1.34s\n",
      "149:\tlearn: 1871.4430344\ttotal: 22.2s\tremaining: 0us\n",
      "MSE = 3356573.785822886\n",
      "RMSE =  1832.095463075788\n",
      "R2 =  0.829181338248\n",
      "<function model_time_cat at 0x7f0d1053cd40>\n"
     ]
    }
   ],
   "source": [
    "features_train1, features_test1, target_train1, target_test1 = train_test_split(\n",
    "    data1.drop(['Price','DateCrawled','PostalCode','NumberOfPictures',\n",
    "              'DateCreated','LastSeen'], axis=1), data1.Price, test_size=0.25, random_state=12345)\n",
    "\n",
    "categorial1 = ['VehicleType', 'Gearbox', 'Model',\n",
    "                'FuelType', 'Brand', 'NotRepaired']\n",
    "\n",
    "\n",
    "model1 =CatBoostRegressor(loss_function='RMSE',random_seed = 12345,iterations = 150,verbose=10)\n",
    "#model1.fit(features_train1, target_train1, cat_features=cat_features)\n",
    "model1.fit(features_train1, target_train1, cat_features=categorial1)\n",
    "\n",
    "probabilities_test1 = model1.predict(features_test1)\n",
    "#probabilities_one_valid1 = probabilities_valid1[:, 1]\n",
    "mse = mean_squared_error(target_test1,probabilities_test1)\n",
    "result = mse**0.5\n",
    "#print(mse2 ,target_valid.values,pred_valid)\n",
    "r2_score = r2_score(target_test1,probabilities_test1)\n",
    "\n",
    "\n",
    "\n",
    "def model_time_cat (model, categorial, X_train, y_train, X_test):\n",
    "    start = time.time()\n",
    "    model.fit(X_train, y_train, cat_features=categorial)\n",
    "    pred = model.predict(X_test)\n",
    "    end = time.time()\n",
    "    time_model = end-start\n",
    "#    print(start, end, time_model)\n",
    "    return pred,time_model\n",
    "\n",
    "mdl=model_time_cat(model1,categorial1,features_train1,target_train1,features_test1)\n",
    "#catboost = [mse,result,r2_score]\n",
    "print(\"MSE =\",mse)\n",
    "print(\"RMSE = \",result)\n",
    "print(\"R2 = \",r2_score)\n",
    "print(model_time_cat)"
   ]
  },
  {
   "cell_type": "code",
   "execution_count": 14,
   "metadata": {},
   "outputs": [
    {
     "data": {
      "text/plain": [
       "23.91545534133911"
      ]
     },
     "execution_count": 14,
     "metadata": {},
     "output_type": "execute_result"
    }
   ],
   "source": [
    "mdl[1]"
   ]
  },
  {
   "cell_type": "markdown",
   "metadata": {},
   "source": [
    "Создаём табличку для фиксирования результатов"
   ]
  },
  {
   "cell_type": "code",
   "execution_count": 15,
   "metadata": {},
   "outputs": [],
   "source": [
    "a = {'Метрика': ['MSE','RMSE','R2-score','time']}\n",
    "total_table = pd.DataFrame(data = a)"
   ]
  },
  {
   "cell_type": "code",
   "execution_count": 16,
   "metadata": {},
   "outputs": [],
   "source": [
    "col = 'CatBoost'\n",
    "total_table.loc[0,col] = mse\n",
    "total_table.loc[1,col]= result\n",
    "total_table.loc[2,col] = r2_score\n",
    "total_table.loc[3,col] = mdl[1]"
   ]
  },
  {
   "cell_type": "markdown",
   "metadata": {},
   "source": [
    "Разберёмся с категориальными признаками с помощью структуры данных OrdinalEncoder"
   ]
  },
  {
   "cell_type": "code",
   "execution_count": 17,
   "metadata": {},
   "outputs": [
    {
     "data": {
      "text/html": [
       "<div>\n",
       "<style scoped>\n",
       "    .dataframe tbody tr th:only-of-type {\n",
       "        vertical-align: middle;\n",
       "    }\n",
       "\n",
       "    .dataframe tbody tr th {\n",
       "        vertical-align: top;\n",
       "    }\n",
       "\n",
       "    .dataframe thead th {\n",
       "        text-align: right;\n",
       "    }\n",
       "</style>\n",
       "<table border=\"1\" class=\"dataframe\">\n",
       "  <thead>\n",
       "    <tr style=\"text-align: right;\">\n",
       "      <th></th>\n",
       "      <th>VehicleType</th>\n",
       "      <th>Gearbox</th>\n",
       "      <th>Model</th>\n",
       "      <th>FuelType</th>\n",
       "      <th>Brand</th>\n",
       "      <th>NotRepaired</th>\n",
       "    </tr>\n",
       "  </thead>\n",
       "  <tbody>\n",
       "    <tr>\n",
       "      <td>0</td>\n",
       "      <td>1.0</td>\n",
       "      <td>1.0</td>\n",
       "      <td>7.0</td>\n",
       "      <td>6.0</td>\n",
       "      <td>25.0</td>\n",
       "      <td>0.0</td>\n",
       "    </tr>\n",
       "    <tr>\n",
       "      <td>1</td>\n",
       "      <td>4.0</td>\n",
       "      <td>1.0</td>\n",
       "      <td>9.0</td>\n",
       "      <td>6.0</td>\n",
       "      <td>19.0</td>\n",
       "      <td>0.0</td>\n",
       "    </tr>\n",
       "    <tr>\n",
       "      <td>2</td>\n",
       "      <td>7.0</td>\n",
       "      <td>1.0</td>\n",
       "      <td>157.0</td>\n",
       "      <td>2.0</td>\n",
       "      <td>35.0</td>\n",
       "      <td>1.0</td>\n",
       "    </tr>\n",
       "    <tr>\n",
       "      <td>3</td>\n",
       "      <td>6.0</td>\n",
       "      <td>1.0</td>\n",
       "      <td>146.0</td>\n",
       "      <td>2.0</td>\n",
       "      <td>23.0</td>\n",
       "      <td>0.0</td>\n",
       "    </tr>\n",
       "    <tr>\n",
       "      <td>4</td>\n",
       "      <td>0.0</td>\n",
       "      <td>1.0</td>\n",
       "      <td>56.0</td>\n",
       "      <td>2.0</td>\n",
       "      <td>10.0</td>\n",
       "      <td>0.0</td>\n",
       "    </tr>\n",
       "  </tbody>\n",
       "</table>\n",
       "</div>"
      ],
      "text/plain": [
       "   VehicleType  Gearbox  Model  FuelType  Brand  NotRepaired\n",
       "0          1.0      1.0    7.0       6.0   25.0          0.0\n",
       "1          4.0      1.0    9.0       6.0   19.0          0.0\n",
       "2          7.0      1.0  157.0       2.0   35.0          1.0\n",
       "3          6.0      1.0  146.0       2.0   23.0          0.0\n",
       "4          0.0      1.0   56.0       2.0   10.0          0.0"
      ]
     },
     "execution_count": 17,
     "metadata": {},
     "output_type": "execute_result"
    }
   ],
   "source": [
    "encoder = OrdinalEncoder() \n",
    "data2 =  data1[['VehicleType', 'Gearbox', 'Model',\n",
    "                'FuelType', 'Brand', 'NotRepaired']]\n",
    "#data2.head(10)\n",
    "  #          'Model',    'FuelType', 'Brand', 'NotRepaired']]\n",
    "data_ordinal = pd.DataFrame(encoder.fit_transform(data2), \n",
    "                                                      columns=data2.columns) \n",
    "data_ordinal.head()\n",
    "#print(data2)"
   ]
  },
  {
   "cell_type": "markdown",
   "metadata": {},
   "source": [
    "## Обучение моделей"
   ]
  },
  {
   "cell_type": "markdown",
   "metadata": {},
   "source": [
    "Обучим разные модели - линейную регресси и случайный лес.\n",
    "Для начала выделим количественные признаки"
   ]
  },
  {
   "cell_type": "code",
   "execution_count": 18,
   "metadata": {},
   "outputs": [
    {
     "name": "stdout",
     "output_type": "stream",
     "text": [
      "[        VehicleType  Gearbox  Model  FuelType  Brand  NotRepaired\n",
      "0               1.0      1.0    7.0       6.0   25.0          0.0\n",
      "1               4.0      1.0    9.0       6.0   19.0          0.0\n",
      "2               7.0      1.0  157.0       2.0   35.0          1.0\n",
      "3               6.0      1.0  146.0       2.0   23.0          0.0\n",
      "4               0.0      1.0   56.0       2.0   10.0          0.0\n",
      "...             ...      ...    ...       ...    ...          ...\n",
      "126265          4.0      0.0   88.0       2.0   20.0          0.0\n",
      "126266          4.0      1.0   25.0       6.0    1.0          0.0\n",
      "126267          4.0      1.0  130.0       2.0   29.0          0.0\n",
      "126268          4.0      1.0  107.0       2.0   35.0          0.0\n",
      "126269          0.0      1.0  204.0       2.0   35.0          0.0\n",
      "\n",
      "[126270 rows x 6 columns],         RegistrationYear  Power  Kilometer  RegistrationMonth  Price\n",
      "6                   2004    109     150000                  8   2200\n",
      "10                  2004    105     150000                 12   2000\n",
      "11                  2005    140     150000                 12   2799\n",
      "14                  2011    190      70000                  3  17999\n",
      "18                  2007    136     150000                  6   7550\n",
      "...                  ...    ...        ...                ...    ...\n",
      "354352              2003    145     150000                  3   6500\n",
      "354353              1997    150     150000                 12   1999\n",
      "354355              2008    105     150000                  7   4400\n",
      "354359              2010    140     150000                  7   7900\n",
      "354367              1996    102     150000                  3   9200\n",
      "\n",
      "[126270 rows x 5 columns]]\n"
     ]
    }
   ],
   "source": [
    "data_count = data1[['RegistrationYear','Power','Kilometer','RegistrationMonth','Price']]\n",
    "data_final = [data_ordinal, data_count]\n",
    "print(data_final)"
   ]
  },
  {
   "cell_type": "code",
   "execution_count": 19,
   "metadata": {},
   "outputs": [],
   "source": [
    "features_train, features_test, target_train, target_test = train_test_split(\n",
    "    data_count.drop(['Price'], axis=1),data_count.Price, test_size=0.25, random_state=12345)    "
   ]
  },
  {
   "cell_type": "markdown",
   "metadata": {},
   "source": [
    "Построим модель линейной регрессии и случайного леса."
   ]
  },
  {
   "cell_type": "code",
   "execution_count": 20,
   "metadata": {},
   "outputs": [],
   "source": [
    "#model = lgb.LGBMRegressor(n_splits = 10,n_repeats = 3,random_state = 12345)\n",
    "#model.fit(features_train, target_train)\n",
    "#pred_valid_light = model.predict(features_valid)\n",
    "\n",
    "#mse_light = mean_squared_error(target_valid,pred_valid_light)\n",
    "#result_light = mse_light**0.5\n",
    "#r2_score_light = r2_score(target_valid,pred_valid_light)\n",
    "\n",
    "#print(\"MSE =\",mse_light)\n",
    "#print(\"RMSE = \",result_light)\n",
    "#print(\"R2 = \",r2_score_light)"
   ]
  },
  {
   "cell_type": "markdown",
   "metadata": {},
   "source": []
  },
  {
   "cell_type": "markdown",
   "metadata": {},
   "source": [
    "Далее проверим нашу модель на линейной регрессии."
   ]
  },
  {
   "cell_type": "code",
   "execution_count": 21,
   "metadata": {},
   "outputs": [],
   "source": [
    "from sklearn.metrics import r2_score"
   ]
  },
  {
   "cell_type": "code",
   "execution_count": 22,
   "metadata": {},
   "outputs": [
    {
     "name": "stdout",
     "output_type": "stream",
     "text": [
      "MSE = 7293691.141800072\n",
      "RMSE =  1832.095463075788\n",
      "R2 =  0.6288183607531617\n"
     ]
    }
   ],
   "source": [
    "model2 =  LinearRegression()\n",
    "model2.fit(features_train,target_train) \n",
    "pred_test = model2.predict(features_test)\n",
    "\n",
    "def model_time_linear(model, X_train, y_train, X_test):\n",
    "    start = time.time()\n",
    "    model.fit(X_train, y_train)\n",
    "    pred = model.predict(X_test)\n",
    "    end = time.time()\n",
    "    time_model = end-start\n",
    "#    print(start, end, time_model)\n",
    "    return pred,time_model\n",
    "\n",
    "mdl1=model_time_linear(model2,features_train,target_train,features_test)\n",
    "\n",
    "mse1 = mean_squared_error(target_test,pred_test)\n",
    "result1 = mse**0.5\n",
    "r2_score1 = r2_score(target_test,pred_test)\n",
    "mdl2 = mdl1[1]\n",
    "\n",
    "print(\"MSE =\",mse1)\n",
    "print(\"RMSE = \",result1)\n",
    "print(\"R2 = \",r2_score1)"
   ]
  },
  {
   "cell_type": "markdown",
   "metadata": {},
   "source": [
    "Запишем данные в таблицу"
   ]
  },
  {
   "cell_type": "code",
   "execution_count": 23,
   "metadata": {},
   "outputs": [],
   "source": [
    "col = 'LinearRegression'\n",
    "total_table.loc[0,col] = mse1\n",
    "total_table.loc[1,col]= result1\n",
    "total_table.loc[2,col] = r2_score1\n",
    "total_table.loc[3,col] = mdl2"
   ]
  },
  {
   "cell_type": "markdown",
   "metadata": {},
   "source": [
    "Посмотрим на поведение модели на \"случайном лесу\"."
   ]
  },
  {
   "cell_type": "code",
   "execution_count": 24,
   "metadata": {},
   "outputs": [],
   "source": [
    "from sklearn.metrics import r2_score"
   ]
  },
  {
   "cell_type": "code",
   "execution_count": 25,
   "metadata": {},
   "outputs": [
    {
     "name": "stdout",
     "output_type": "stream",
     "text": [
      "Среднеквадратичная ошибка: 10748913.8588919 ; Количество деревьев: 10 ; Максимальная глубина: 1 ; Среднеквадратичное отклонение: 3278.5536230008347 Метрика R-2: 0.45297937783503717\n"
     ]
    }
   ],
   "source": [
    "best_model = None\n",
    "best_result = 10000\n",
    "best_est = 0\n",
    "best_depth = 0\n",
    "for est in range(10,11):\n",
    "    for depth in range (1,2):\n",
    "        model3 =   RandomForestRegressor(random_state=12345,n_estimators=est, max_depth= depth)\n",
    "        model3.fit(features_train,target_train) \n",
    "        pred_test = model3.predict(features_test) \n",
    "        mse2 = mean_squared_error(target_test,pred_test)\n",
    "        rmse2 = mse2**0.5\n",
    "        r2_score2 = r2_score(target_test,pred_test)\n",
    "        if result < best_result:\n",
    "            best_model = model3\n",
    "            best_result = result\n",
    "            best_est = est\n",
    "            best_depth = depth\n",
    "\n",
    "\n",
    "def model_time_forest(model, X_train, y_train, X_test):\n",
    "    start = time.time()\n",
    "    model.fit(X_train, y_train)\n",
    "    pred = model.predict(X_test)\n",
    "    end = time.time()\n",
    "    time_model = end-start\n",
    "#   print(start, end, time_model)\n",
    "    return pred,time_model       \n",
    "\n",
    "mdl2 = model_time_forest(model3,features_train,target_train,features_test)\n",
    "mdl3 = mdl2[1]           \n",
    "print(\"Среднеквадратичная ошибка:\",mse2,\";\" ,\"Количество деревьев:\", best_est, \";\",\\\n",
    "      \"Максимальная глубина:\", depth,\";\",\"Среднеквадратичное отклонение:\",rmse2\n",
    "      ,\"Метрика R-2:\",r2_score2)\n"
   ]
  },
  {
   "cell_type": "markdown",
   "metadata": {},
   "source": [
    "Обновим таблицу"
   ]
  },
  {
   "cell_type": "code",
   "execution_count": 26,
   "metadata": {},
   "outputs": [],
   "source": [
    "col = 'RandomForest'\n",
    "total_table.loc[0,col] = mse2\n",
    "total_table.loc[1,col]= rmse2\n",
    "total_table.loc[2,col] = r2_score2\n",
    "total_table.loc[3,col] = mdl3"
   ]
  },
  {
   "cell_type": "markdown",
   "metadata": {},
   "source": [
    "Выведем всю таблицу:"
   ]
  },
  {
   "cell_type": "code",
   "execution_count": 27,
   "metadata": {},
   "outputs": [
    {
     "data": {
      "text/html": [
       "<div>\n",
       "<style scoped>\n",
       "    .dataframe tbody tr th:only-of-type {\n",
       "        vertical-align: middle;\n",
       "    }\n",
       "\n",
       "    .dataframe tbody tr th {\n",
       "        vertical-align: top;\n",
       "    }\n",
       "\n",
       "    .dataframe thead th {\n",
       "        text-align: right;\n",
       "    }\n",
       "</style>\n",
       "<table border=\"1\" class=\"dataframe\">\n",
       "  <thead>\n",
       "    <tr style=\"text-align: right;\">\n",
       "      <th></th>\n",
       "      <th>Метрика</th>\n",
       "      <th>CatBoost</th>\n",
       "      <th>LinearRegression</th>\n",
       "      <th>RandomForest</th>\n",
       "    </tr>\n",
       "  </thead>\n",
       "  <tbody>\n",
       "    <tr>\n",
       "      <td>0</td>\n",
       "      <td>MSE</td>\n",
       "      <td>3.356574e+06</td>\n",
       "      <td>7.293691e+06</td>\n",
       "      <td>1.074891e+07</td>\n",
       "    </tr>\n",
       "    <tr>\n",
       "      <td>1</td>\n",
       "      <td>RMSE</td>\n",
       "      <td>1.832095e+03</td>\n",
       "      <td>1.832095e+03</td>\n",
       "      <td>3.278554e+03</td>\n",
       "    </tr>\n",
       "    <tr>\n",
       "      <td>2</td>\n",
       "      <td>R2-score</td>\n",
       "      <td>8.291813e-01</td>\n",
       "      <td>6.288184e-01</td>\n",
       "      <td>4.529794e-01</td>\n",
       "    </tr>\n",
       "    <tr>\n",
       "      <td>3</td>\n",
       "      <td>time</td>\n",
       "      <td>2.391546e+01</td>\n",
       "      <td>3.999424e-02</td>\n",
       "      <td>1.478927e-01</td>\n",
       "    </tr>\n",
       "  </tbody>\n",
       "</table>\n",
       "</div>"
      ],
      "text/plain": [
       "    Метрика      CatBoost  LinearRegression  RandomForest\n",
       "0       MSE  3.356574e+06      7.293691e+06  1.074891e+07\n",
       "1      RMSE  1.832095e+03      1.832095e+03  3.278554e+03\n",
       "2  R2-score  8.291813e-01      6.288184e-01  4.529794e-01\n",
       "3      time  2.391546e+01      3.999424e-02  1.478927e-01"
      ]
     },
     "execution_count": 27,
     "metadata": {},
     "output_type": "execute_result"
    }
   ],
   "source": [
    "total_table"
   ]
  },
  {
   "cell_type": "markdown",
   "metadata": {},
   "source": [
    "## Анализ моделей"
   ]
  },
  {
   "cell_type": "markdown",
   "metadata": {},
   "source": [
    "В среднем меньше всего ошибка в модели \"CatBoost\" - в двух метриках из трёх, метрика R-2 меньше всего в модели \"Случайного леса\". Но у \"леса\" самые большие значения метрик \"MSE\" и \"RMSE\",но \"CatBoost\" не может быть лучшей моделью, потому что время на подсчёта модели на два-три порядка больше остальных моделей. Поэтому, \"Линейная Регрессия\" - лучшая модель."
   ]
  },
  {
   "cell_type": "markdown",
   "metadata": {},
   "source": [
    "## Чек-лист проверки"
   ]
  },
  {
   "cell_type": "markdown",
   "metadata": {},
   "source": [
    "Поставьте 'x' в выполненных пунктах. Далее нажмите Shift+Enter."
   ]
  },
  {
   "cell_type": "markdown",
   "metadata": {},
   "source": [
    "- [x]  Jupyter Notebook открыт\n",
    "- [x]  Весь код выполняется без ошибок\n",
    "- [x]  Ячейки с кодом расположены в порядке исполнения\n",
    "- [x]  Выполнена загрузка и подготовка данных\n",
    "- [x]  Выполнено обучение моделей\n",
    "- [x]  Есть анализ скорости работы и качества моделей"
   ]
  },
  {
   "cell_type": "code",
   "execution_count": null,
   "metadata": {},
   "outputs": [],
   "source": []
  }
 ],
 "metadata": {
  "ExecuteTimeLog": [
   {
    "duration": 482,
    "start_time": "2021-09-09T10:55:27.569Z"
   },
   {
    "duration": 791,
    "start_time": "2021-09-09T10:55:30.958Z"
   },
   {
    "duration": 1068,
    "start_time": "2021-09-09T10:55:32.781Z"
   },
   {
    "duration": 36,
    "start_time": "2021-09-09T10:55:47.474Z"
   },
   {
    "duration": 156,
    "start_time": "2021-09-09T10:56:13.173Z"
   },
   {
    "duration": 527,
    "start_time": "2021-09-09T11:54:28.548Z"
   },
   {
    "duration": 787,
    "start_time": "2021-09-09T11:54:42.211Z"
   },
   {
    "duration": 1048,
    "start_time": "2021-09-09T11:54:43.001Z"
   },
   {
    "duration": 37,
    "start_time": "2021-09-09T11:54:44.054Z"
   },
   {
    "duration": 168,
    "start_time": "2021-09-09T11:54:44.093Z"
   },
   {
    "duration": 472,
    "start_time": "2021-09-09T11:54:44.263Z"
   },
   {
    "duration": 87,
    "start_time": "2021-09-09T11:55:14.175Z"
   },
   {
    "duration": 134,
    "start_time": "2021-09-09T11:55:28.129Z"
   },
   {
    "duration": 442,
    "start_time": "2021-09-09T12:00:09.952Z"
   },
   {
    "duration": 108,
    "start_time": "2021-09-09T12:00:12.725Z"
   },
   {
    "duration": 1415,
    "start_time": "2021-09-29T12:03:16.165Z"
   },
   {
    "duration": 1172,
    "start_time": "2021-09-29T12:03:17.583Z"
   },
   {
    "duration": 43,
    "start_time": "2021-09-29T12:03:18.758Z"
   },
   {
    "duration": 193,
    "start_time": "2021-09-29T12:03:18.803Z"
   },
   {
    "duration": 481,
    "start_time": "2021-09-29T12:03:18.998Z"
   },
   {
    "duration": 131,
    "start_time": "2021-09-29T12:03:19.482Z"
   },
   {
    "duration": 226,
    "start_time": "2021-09-29T12:03:19.615Z"
   },
   {
    "duration": 28,
    "start_time": "2021-09-29T12:10:40.294Z"
   },
   {
    "duration": 4,
    "start_time": "2021-09-29T12:10:49.192Z"
   },
   {
    "duration": 3,
    "start_time": "2021-09-29T12:10:52.085Z"
   },
   {
    "duration": 123,
    "start_time": "2021-09-29T12:10:58.049Z"
   },
   {
    "duration": 4,
    "start_time": "2021-09-29T12:11:01.743Z"
   },
   {
    "duration": 44,
    "start_time": "2021-09-29T12:11:07.930Z"
   },
   {
    "duration": 294,
    "start_time": "2021-09-29T12:12:19.986Z"
   },
   {
    "duration": 463,
    "start_time": "2021-09-29T12:12:28.718Z"
   },
   {
    "duration": 529,
    "start_time": "2021-09-29T12:12:41.953Z"
   },
   {
    "duration": 6,
    "start_time": "2021-09-29T12:12:49.429Z"
   },
   {
    "duration": 731,
    "start_time": "2021-09-29T12:13:05.538Z"
   },
   {
    "duration": 4,
    "start_time": "2021-09-29T12:18:09.933Z"
   },
   {
    "duration": 1620,
    "start_time": "2021-09-29T12:53:55.454Z"
   },
   {
    "duration": 1172,
    "start_time": "2021-09-29T12:53:57.076Z"
   },
   {
    "duration": 49,
    "start_time": "2021-09-29T12:53:58.250Z"
   },
   {
    "duration": 4,
    "start_time": "2021-09-29T12:53:58.302Z"
   },
   {
    "duration": 536,
    "start_time": "2021-09-29T12:53:58.308Z"
   },
   {
    "duration": 4,
    "start_time": "2021-09-29T12:53:58.847Z"
   },
   {
    "duration": 226,
    "start_time": "2021-09-29T12:53:58.861Z"
   },
   {
    "duration": 33,
    "start_time": "2021-09-29T12:53:59.090Z"
   },
   {
    "duration": 645,
    "start_time": "2021-09-29T12:53:59.126Z"
   },
   {
    "duration": 459,
    "start_time": "2021-09-29T12:53:59.778Z"
   },
   {
    "duration": 50,
    "start_time": "2021-09-29T13:00:06.405Z"
   },
   {
    "duration": 50,
    "start_time": "2021-09-29T13:00:16.926Z"
   },
   {
    "duration": 137,
    "start_time": "2021-09-29T13:01:20.445Z"
   },
   {
    "duration": 378,
    "start_time": "2021-09-29T13:03:17.570Z"
   },
   {
    "duration": 4,
    "start_time": "2021-09-29T13:03:30.282Z"
   },
   {
    "duration": 470,
    "start_time": "2021-09-29T13:05:22.259Z"
   },
   {
    "duration": 280,
    "start_time": "2021-09-29T13:05:36.240Z"
   },
   {
    "duration": 5,
    "start_time": "2021-09-29T13:06:57.427Z"
   },
   {
    "duration": 469,
    "start_time": "2021-09-29T13:07:21.208Z"
   },
   {
    "duration": 79,
    "start_time": "2021-09-29T13:08:03.914Z"
   },
   {
    "duration": 269,
    "start_time": "2021-09-29T13:08:36.789Z"
   },
   {
    "duration": 78,
    "start_time": "2021-09-29T13:11:13.443Z"
   },
   {
    "duration": 389,
    "start_time": "2021-09-29T13:17:44.957Z"
   },
   {
    "duration": 406,
    "start_time": "2021-09-29T13:18:08.832Z"
   },
   {
    "duration": 427,
    "start_time": "2021-09-29T13:18:17.124Z"
   },
   {
    "duration": 428,
    "start_time": "2021-09-29T13:19:05.389Z"
   },
   {
    "duration": 155,
    "start_time": "2021-09-29T13:19:30.777Z"
   },
   {
    "duration": 444,
    "start_time": "2021-09-29T13:20:12.101Z"
   },
   {
    "duration": 31,
    "start_time": "2021-09-29T13:20:46.815Z"
   },
   {
    "duration": 3,
    "start_time": "2021-09-29T13:20:59.650Z"
   },
   {
    "duration": 374,
    "start_time": "2021-09-29T13:21:26.794Z"
   },
   {
    "duration": 301,
    "start_time": "2021-09-29T13:21:53.139Z"
   },
   {
    "duration": 131,
    "start_time": "2021-09-29T13:21:59.898Z"
   },
   {
    "duration": 492,
    "start_time": "2021-09-29T13:22:23.134Z"
   },
   {
    "duration": 112,
    "start_time": "2021-09-29T13:23:35.843Z"
   },
   {
    "duration": 56,
    "start_time": "2021-09-29T13:23:40.979Z"
   },
   {
    "duration": 381,
    "start_time": "2021-09-29T13:23:47.945Z"
   },
   {
    "duration": 36,
    "start_time": "2021-09-29T13:23:58.955Z"
   },
   {
    "duration": 9,
    "start_time": "2021-09-29T13:24:56.324Z"
   },
   {
    "duration": 73,
    "start_time": "2021-09-29T13:25:01.855Z"
   },
   {
    "duration": 431,
    "start_time": "2021-09-29T13:25:33.873Z"
   },
   {
    "duration": 115,
    "start_time": "2021-09-29T13:29:36.746Z"
   },
   {
    "duration": 407,
    "start_time": "2021-09-29T13:29:42.484Z"
   },
   {
    "duration": 128,
    "start_time": "2021-09-29T13:30:20.061Z"
   },
   {
    "duration": 493,
    "start_time": "2021-09-29T13:30:25.411Z"
   },
   {
    "duration": 110,
    "start_time": "2021-09-29T13:31:00.104Z"
   },
   {
    "duration": 1021,
    "start_time": "2021-09-29T13:31:05.754Z"
   },
   {
    "duration": 86,
    "start_time": "2021-09-29T13:32:10.786Z"
   },
   {
    "duration": 390,
    "start_time": "2021-09-29T13:32:17.994Z"
   },
   {
    "duration": 49,
    "start_time": "2021-09-29T13:32:49.101Z"
   },
   {
    "duration": 771,
    "start_time": "2021-09-29T13:32:54.883Z"
   },
   {
    "duration": 5,
    "start_time": "2021-09-29T13:33:33.268Z"
   },
   {
    "duration": 727,
    "start_time": "2021-09-29T13:33:40.804Z"
   },
   {
    "duration": 749,
    "start_time": "2021-09-29T13:35:03.862Z"
   },
   {
    "duration": 6,
    "start_time": "2021-09-29T13:35:21.097Z"
   },
   {
    "duration": 282552,
    "start_time": "2021-09-29T13:35:25.892Z"
   },
   {
    "duration": 1468,
    "start_time": "2021-09-29T13:50:58.064Z"
   },
   {
    "duration": 1150,
    "start_time": "2021-09-29T13:50:59.535Z"
   },
   {
    "duration": 39,
    "start_time": "2021-09-29T13:51:00.688Z"
   },
   {
    "duration": 186,
    "start_time": "2021-09-29T13:51:00.730Z"
   },
   {
    "duration": 492,
    "start_time": "2021-09-29T13:51:00.919Z"
   },
   {
    "duration": 309,
    "start_time": "2021-09-29T13:51:01.413Z"
   },
   {
    "duration": 78,
    "start_time": "2021-09-29T13:51:01.724Z"
   },
   {
    "duration": 57,
    "start_time": "2021-09-29T13:51:01.805Z"
   },
   {
    "duration": 36,
    "start_time": "2021-09-29T13:51:01.865Z"
   },
   {
    "duration": 8173,
    "start_time": "2021-09-29T13:51:01.904Z"
   },
   {
    "duration": 478,
    "start_time": "2021-09-29T13:51:10.080Z"
   },
   {
    "duration": 5,
    "start_time": "2021-09-29T13:51:32.399Z"
   },
   {
    "duration": 47,
    "start_time": "2021-09-29T13:51:36.818Z"
   },
   {
    "duration": 265910,
    "start_time": "2021-09-29T13:53:50.356Z"
   },
   {
    "duration": 100,
    "start_time": "2021-09-29T14:03:11.665Z"
   },
   {
    "duration": 724,
    "start_time": "2021-09-29T14:04:42.461Z"
   },
   {
    "duration": 731,
    "start_time": "2021-09-29T14:05:10.859Z"
   },
   {
    "duration": 738,
    "start_time": "2021-09-29T14:06:32.342Z"
   },
   {
    "duration": 1193,
    "start_time": "2021-09-29T14:06:52.822Z"
   },
   {
    "duration": 274911,
    "start_time": "2021-09-29T14:07:11.753Z"
   },
   {
    "duration": 365017,
    "start_time": "2021-09-29T14:18:00.559Z"
   },
   {
    "duration": 1337,
    "start_time": "2021-09-29T14:26:24.108Z"
   },
   {
    "duration": 1151,
    "start_time": "2021-09-29T14:26:25.447Z"
   },
   {
    "duration": 39,
    "start_time": "2021-09-29T14:26:26.601Z"
   },
   {
    "duration": 188,
    "start_time": "2021-09-29T14:26:26.643Z"
   },
   {
    "duration": 488,
    "start_time": "2021-09-29T14:26:26.833Z"
   },
   {
    "duration": 304,
    "start_time": "2021-09-29T14:26:27.323Z"
   },
   {
    "duration": 74,
    "start_time": "2021-09-29T14:26:27.630Z"
   },
   {
    "duration": 63,
    "start_time": "2021-09-29T14:26:27.707Z"
   },
   {
    "duration": 33,
    "start_time": "2021-09-29T14:26:27.773Z"
   },
   {
    "duration": 463,
    "start_time": "2021-09-29T14:26:27.809Z"
   },
   {
    "duration": 5106,
    "start_time": "2021-09-29T14:26:28.368Z"
   },
   {
    "duration": 95,
    "start_time": "2021-09-29T14:26:33.476Z"
   },
   {
    "duration": 1020,
    "start_time": "2021-09-30T07:31:44.828Z"
   },
   {
    "duration": 747,
    "start_time": "2021-09-30T07:31:45.850Z"
   },
   {
    "duration": 25,
    "start_time": "2021-09-30T07:31:46.599Z"
   },
   {
    "duration": 117,
    "start_time": "2021-09-30T07:32:16.810Z"
   },
   {
    "duration": 324,
    "start_time": "2021-09-30T07:32:20.166Z"
   },
   {
    "duration": 189,
    "start_time": "2021-09-30T07:32:29.057Z"
   },
   {
    "duration": 49,
    "start_time": "2021-09-30T07:32:32.695Z"
   },
   {
    "duration": 32,
    "start_time": "2021-09-30T07:33:36.964Z"
   },
   {
    "duration": 412,
    "start_time": "2021-10-01T06:13:31.817Z"
   },
   {
    "duration": 1483,
    "start_time": "2021-10-01T06:13:42.542Z"
   },
   {
    "duration": 1313,
    "start_time": "2021-10-01T06:13:44.028Z"
   },
   {
    "duration": 43,
    "start_time": "2021-10-01T06:13:45.344Z"
   },
   {
    "duration": 171,
    "start_time": "2021-10-01T06:13:45.390Z"
   },
   {
    "duration": 480,
    "start_time": "2021-10-01T06:13:45.564Z"
   },
   {
    "duration": 299,
    "start_time": "2021-10-01T06:13:46.047Z"
   },
   {
    "duration": 76,
    "start_time": "2021-10-01T06:13:46.349Z"
   },
   {
    "duration": 104,
    "start_time": "2021-10-01T06:13:46.427Z"
   },
   {
    "duration": 57,
    "start_time": "2021-10-01T06:13:46.535Z"
   },
   {
    "duration": 5381,
    "start_time": "2021-10-01T06:13:46.595Z"
   },
   {
    "duration": 200,
    "start_time": "2021-10-01T06:13:52.058Z"
   },
   {
    "duration": 1320,
    "start_time": "2021-10-01T06:18:46.600Z"
   },
   {
    "duration": 1090,
    "start_time": "2021-10-01T06:18:47.922Z"
   },
   {
    "duration": 3,
    "start_time": "2021-10-01T06:18:49.015Z"
   },
   {
    "duration": 6,
    "start_time": "2021-10-01T06:18:49.021Z"
   },
   {
    "duration": 502,
    "start_time": "2021-10-01T06:18:49.029Z"
   },
   {
    "duration": 302,
    "start_time": "2021-10-01T06:18:49.533Z"
   },
   {
    "duration": 72,
    "start_time": "2021-10-01T06:18:49.838Z"
   },
   {
    "duration": 112,
    "start_time": "2021-10-01T06:18:49.914Z"
   },
   {
    "duration": 156,
    "start_time": "2021-10-01T06:18:50.028Z"
   },
   {
    "duration": 47,
    "start_time": "2021-10-01T06:18:50.186Z"
   },
   {
    "duration": 5233,
    "start_time": "2021-10-01T06:18:50.235Z"
   },
   {
    "duration": 99,
    "start_time": "2021-10-01T06:18:55.470Z"
   },
   {
    "duration": 238,
    "start_time": "2021-10-01T06:19:11.234Z"
   },
   {
    "duration": 195,
    "start_time": "2021-10-01T06:20:15.409Z"
   },
   {
    "duration": 290,
    "start_time": "2021-10-01T06:20:23.193Z"
   },
   {
    "duration": 732,
    "start_time": "2021-10-01T06:20:50.250Z"
   },
   {
    "duration": 127,
    "start_time": "2021-10-01T06:21:54.595Z"
   },
   {
    "duration": 277,
    "start_time": "2021-10-01T06:22:00.082Z"
   },
   {
    "duration": 251,
    "start_time": "2021-10-01T06:23:49.749Z"
   },
   {
    "duration": 47,
    "start_time": "2021-10-01T06:25:21.552Z"
   },
   {
    "duration": 421,
    "start_time": "2021-10-01T06:48:15.785Z"
   },
   {
    "duration": 5,
    "start_time": "2021-10-01T06:49:48.685Z"
   },
   {
    "duration": 943,
    "start_time": "2021-10-01T06:49:55.462Z"
   },
   {
    "duration": 38,
    "start_time": "2021-10-01T06:56:27.795Z"
   },
   {
    "duration": 381,
    "start_time": "2021-10-01T06:56:37.621Z"
   },
   {
    "duration": 31,
    "start_time": "2021-10-01T06:56:53.993Z"
   },
   {
    "duration": 947,
    "start_time": "2021-10-01T06:57:48.443Z"
   },
   {
    "duration": 1108,
    "start_time": "2021-10-01T07:00:29.718Z"
   },
   {
    "duration": 34,
    "start_time": "2021-10-01T07:01:13.764Z"
   },
   {
    "duration": 77,
    "start_time": "2021-10-01T07:01:31.582Z"
   },
   {
    "duration": 36,
    "start_time": "2021-10-01T07:04:31.794Z"
   },
   {
    "duration": 314,
    "start_time": "2021-10-01T07:05:02.475Z"
   },
   {
    "duration": 342,
    "start_time": "2021-10-01T07:05:13.892Z"
   },
   {
    "duration": 300,
    "start_time": "2021-10-01T07:05:18.196Z"
   },
   {
    "duration": 516,
    "start_time": "2021-10-01T07:05:23.583Z"
   },
   {
    "duration": 1426,
    "start_time": "2021-10-01T07:06:59.436Z"
   },
   {
    "duration": 1167,
    "start_time": "2021-10-01T07:07:00.865Z"
   },
   {
    "duration": 46,
    "start_time": "2021-10-01T07:07:02.035Z"
   },
   {
    "duration": 24,
    "start_time": "2021-10-01T07:07:02.084Z"
   },
   {
    "duration": 490,
    "start_time": "2021-10-01T07:07:02.110Z"
   },
   {
    "duration": 298,
    "start_time": "2021-10-01T07:07:02.603Z"
   },
   {
    "duration": 73,
    "start_time": "2021-10-01T07:07:02.903Z"
   },
   {
    "duration": 106,
    "start_time": "2021-10-01T07:07:02.980Z"
   },
   {
    "duration": 106,
    "start_time": "2021-10-01T07:07:03.088Z"
   },
   {
    "duration": 47,
    "start_time": "2021-10-01T07:07:03.196Z"
   },
   {
    "duration": 976,
    "start_time": "2021-10-01T07:07:03.257Z"
   },
   {
    "duration": 43,
    "start_time": "2021-10-01T07:07:04.235Z"
   },
   {
    "duration": 654,
    "start_time": "2021-10-01T07:07:04.280Z"
   },
   {
    "duration": 173,
    "start_time": "2021-10-01T07:07:41.886Z"
   },
   {
    "duration": 40,
    "start_time": "2021-10-01T07:07:54.080Z"
   },
   {
    "duration": 459,
    "start_time": "2021-10-01T07:08:01.453Z"
   },
   {
    "duration": 40,
    "start_time": "2021-10-01T07:08:10.536Z"
   },
   {
    "duration": 467,
    "start_time": "2021-10-01T07:08:14.057Z"
   },
   {
    "duration": 1397,
    "start_time": "2021-10-01T07:09:03.425Z"
   },
   {
    "duration": 1146,
    "start_time": "2021-10-01T07:09:04.825Z"
   },
   {
    "duration": 39,
    "start_time": "2021-10-01T07:09:05.974Z"
   },
   {
    "duration": 21,
    "start_time": "2021-10-01T07:09:06.016Z"
   },
   {
    "duration": 493,
    "start_time": "2021-10-01T07:09:06.039Z"
   },
   {
    "duration": 301,
    "start_time": "2021-10-01T07:09:06.535Z"
   },
   {
    "duration": 75,
    "start_time": "2021-10-01T07:09:06.838Z"
   },
   {
    "duration": 103,
    "start_time": "2021-10-01T07:09:06.916Z"
   },
   {
    "duration": 106,
    "start_time": "2021-10-01T07:09:07.021Z"
   },
   {
    "duration": 55,
    "start_time": "2021-10-01T07:09:07.129Z"
   },
   {
    "duration": 963,
    "start_time": "2021-10-01T07:09:07.187Z"
   },
   {
    "duration": 33,
    "start_time": "2021-10-01T07:09:08.153Z"
   },
   {
    "duration": 169,
    "start_time": "2021-10-01T07:09:08.188Z"
   },
   {
    "duration": 710,
    "start_time": "2021-10-01T07:09:23.154Z"
   },
   {
    "duration": 370,
    "start_time": "2021-10-01T07:09:59.935Z"
   },
   {
    "duration": 1406,
    "start_time": "2021-10-01T07:10:07.520Z"
   },
   {
    "duration": 1104,
    "start_time": "2021-10-01T07:10:08.929Z"
   },
   {
    "duration": 47,
    "start_time": "2021-10-01T07:10:10.036Z"
   },
   {
    "duration": 6,
    "start_time": "2021-10-01T07:10:10.085Z"
   },
   {
    "duration": 482,
    "start_time": "2021-10-01T07:10:10.094Z"
   },
   {
    "duration": 297,
    "start_time": "2021-10-01T07:10:10.579Z"
   },
   {
    "duration": 90,
    "start_time": "2021-10-01T07:10:10.879Z"
   },
   {
    "duration": 106,
    "start_time": "2021-10-01T07:10:10.972Z"
   },
   {
    "duration": 102,
    "start_time": "2021-10-01T07:10:11.081Z"
   },
   {
    "duration": 45,
    "start_time": "2021-10-01T07:10:11.185Z"
   },
   {
    "duration": 1025,
    "start_time": "2021-10-01T07:10:11.233Z"
   },
   {
    "duration": 39,
    "start_time": "2021-10-01T07:10:12.261Z"
   },
   {
    "duration": 155,
    "start_time": "2021-10-01T07:10:12.302Z"
   },
   {
    "duration": 70,
    "start_time": "2021-10-01T07:21:06.518Z"
   },
   {
    "duration": 1129,
    "start_time": "2021-10-01T07:27:44.873Z"
   },
   {
    "duration": 4731,
    "start_time": "2021-10-01T07:28:13.648Z"
   },
   {
    "duration": 3376,
    "start_time": "2021-10-01T07:28:43.811Z"
   },
   {
    "duration": 3247,
    "start_time": "2021-10-01T07:33:32.117Z"
   },
   {
    "duration": 295,
    "start_time": "2021-10-01T07:34:39.992Z"
   },
   {
    "duration": 373,
    "start_time": "2021-10-01T07:35:08.096Z"
   },
   {
    "duration": 1101,
    "start_time": "2021-10-01T07:35:27.763Z"
   },
   {
    "duration": 3589,
    "start_time": "2021-10-01T07:36:40.031Z"
   },
   {
    "duration": 1501,
    "start_time": "2021-10-01T07:37:18.071Z"
   },
   {
    "duration": 1235,
    "start_time": "2021-10-01T07:37:19.575Z"
   },
   {
    "duration": 50,
    "start_time": "2021-10-01T07:37:20.813Z"
   },
   {
    "duration": 25,
    "start_time": "2021-10-01T07:37:20.866Z"
   },
   {
    "duration": 494,
    "start_time": "2021-10-01T07:37:20.894Z"
   },
   {
    "duration": 301,
    "start_time": "2021-10-01T07:37:21.390Z"
   },
   {
    "duration": 78,
    "start_time": "2021-10-01T07:37:21.694Z"
   },
   {
    "duration": 107,
    "start_time": "2021-10-01T07:37:21.776Z"
   },
   {
    "duration": 113,
    "start_time": "2021-10-01T07:37:21.885Z"
   },
   {
    "duration": 58,
    "start_time": "2021-10-01T07:37:22.000Z"
   },
   {
    "duration": 3554,
    "start_time": "2021-10-01T07:37:22.060Z"
   },
   {
    "duration": 9863,
    "start_time": "2021-10-01T07:37:15.754Z"
   },
   {
    "duration": 9850,
    "start_time": "2021-10-01T07:37:15.769Z"
   },
   {
    "duration": 9801,
    "start_time": "2021-10-01T07:37:15.820Z"
   },
   {
    "duration": 9794,
    "start_time": "2021-10-01T07:37:15.829Z"
   },
   {
    "duration": 9772,
    "start_time": "2021-10-01T07:37:15.853Z"
   },
   {
    "duration": 1156,
    "start_time": "2021-10-01T07:37:47.302Z"
   },
   {
    "duration": 32,
    "start_time": "2021-10-01T07:37:51.739Z"
   },
   {
    "duration": 40,
    "start_time": "2021-10-01T07:37:56.406Z"
   },
   {
    "duration": 207038,
    "start_time": "2021-10-01T07:38:00.047Z"
   },
   {
    "duration": 337,
    "start_time": "2021-10-02T06:59:44.702Z"
   },
   {
    "duration": 1714,
    "start_time": "2021-10-02T06:59:52.674Z"
   },
   {
    "duration": 2736,
    "start_time": "2021-10-02T06:59:54.391Z"
   },
   {
    "duration": 38,
    "start_time": "2021-10-02T06:59:57.130Z"
   },
   {
    "duration": 12,
    "start_time": "2021-10-02T06:59:57.171Z"
   },
   {
    "duration": 469,
    "start_time": "2021-10-02T06:59:57.187Z"
   },
   {
    "duration": 294,
    "start_time": "2021-10-02T06:59:57.659Z"
   },
   {
    "duration": 71,
    "start_time": "2021-10-02T06:59:57.955Z"
   },
   {
    "duration": 98,
    "start_time": "2021-10-02T06:59:58.030Z"
   },
   {
    "duration": 97,
    "start_time": "2021-10-02T06:59:58.131Z"
   },
   {
    "duration": 56,
    "start_time": "2021-10-02T06:59:58.230Z"
   },
   {
    "duration": 2896,
    "start_time": "2021-10-02T06:59:58.289Z"
   },
   {
    "duration": 11296,
    "start_time": "2021-10-02T06:59:49.892Z"
   },
   {
    "duration": 11226,
    "start_time": "2021-10-02T06:59:49.964Z"
   },
   {
    "duration": 11213,
    "start_time": "2021-10-02T06:59:49.978Z"
   },
   {
    "duration": 11211,
    "start_time": "2021-10-02T06:59:49.982Z"
   },
   {
    "duration": 294,
    "start_time": "2021-10-02T07:00:16.734Z"
   },
   {
    "duration": 303,
    "start_time": "2021-10-02T07:05:47.714Z"
   },
   {
    "duration": 246,
    "start_time": "2021-10-02T07:06:06.502Z"
   },
   {
    "duration": 9,
    "start_time": "2021-10-02T07:06:52.556Z"
   },
   {
    "duration": 250,
    "start_time": "2021-10-02T07:07:09.608Z"
   },
   {
    "duration": 7173,
    "start_time": "2021-10-02T07:07:33.218Z"
   },
   {
    "duration": 6863,
    "start_time": "2021-10-02T07:07:57.607Z"
   },
   {
    "duration": 271,
    "start_time": "2021-10-02T07:08:28.053Z"
   },
   {
    "duration": 340,
    "start_time": "2021-10-02T07:14:00.436Z"
   },
   {
    "duration": 23,
    "start_time": "2021-10-02T07:16:21.135Z"
   },
   {
    "duration": 238,
    "start_time": "2021-10-02T07:17:18.813Z"
   },
   {
    "duration": 327,
    "start_time": "2021-10-02T07:18:22.622Z"
   },
   {
    "duration": 5,
    "start_time": "2021-10-02T07:18:31.230Z"
   },
   {
    "duration": 295,
    "start_time": "2021-10-02T07:18:37.824Z"
   },
   {
    "duration": 25575,
    "start_time": "2021-10-02T07:31:55.875Z"
   },
   {
    "duration": 24517,
    "start_time": "2021-10-02T07:33:24.004Z"
   },
   {
    "duration": 24517,
    "start_time": "2021-10-02T07:34:24.044Z"
   },
   {
    "duration": 24389,
    "start_time": "2021-10-02T07:35:19.221Z"
   },
   {
    "duration": 24021,
    "start_time": "2021-10-02T07:40:11.576Z"
   },
   {
    "duration": 164,
    "start_time": "2021-10-02T07:59:19.675Z"
   },
   {
    "duration": 25029,
    "start_time": "2021-10-02T08:00:23.612Z"
   },
   {
    "duration": 318,
    "start_time": "2021-10-02T08:01:56.447Z"
   },
   {
    "duration": 1442,
    "start_time": "2021-10-02T08:02:24.644Z"
   },
   {
    "duration": 1043,
    "start_time": "2021-10-02T08:02:26.088Z"
   },
   {
    "duration": 48,
    "start_time": "2021-10-02T08:02:27.134Z"
   },
   {
    "duration": 3,
    "start_time": "2021-10-02T08:02:27.185Z"
   },
   {
    "duration": 481,
    "start_time": "2021-10-02T08:02:27.191Z"
   },
   {
    "duration": 318,
    "start_time": "2021-10-02T08:02:27.675Z"
   },
   {
    "duration": 67,
    "start_time": "2021-10-02T08:02:27.995Z"
   },
   {
    "duration": 118,
    "start_time": "2021-10-02T08:02:28.066Z"
   },
   {
    "duration": 105,
    "start_time": "2021-10-02T08:02:28.189Z"
   },
   {
    "duration": 48,
    "start_time": "2021-10-02T08:02:28.298Z"
   },
   {
    "duration": 23842,
    "start_time": "2021-10-02T08:02:28.348Z"
   },
   {
    "duration": 245,
    "start_time": "2021-10-02T08:02:52.193Z"
   },
   {
    "duration": 366,
    "start_time": "2021-10-02T08:02:52.440Z"
   },
   {
    "duration": 11224,
    "start_time": "2021-10-02T08:02:41.585Z"
   },
   {
    "duration": 11223,
    "start_time": "2021-10-02T08:02:41.588Z"
   },
   {
    "duration": 11219,
    "start_time": "2021-10-02T08:02:41.593Z"
   },
   {
    "duration": 286,
    "start_time": "2021-10-02T08:03:49.241Z"
   },
   {
    "duration": 38,
    "start_time": "2021-10-02T08:03:59.762Z"
   },
   {
    "duration": 233,
    "start_time": "2021-10-02T08:04:18.078Z"
   },
   {
    "duration": 25843,
    "start_time": "2021-10-02T08:05:44.667Z"
   },
   {
    "duration": 1421,
    "start_time": "2021-10-02T08:06:33.419Z"
   },
   {
    "duration": 1107,
    "start_time": "2021-10-02T08:06:34.843Z"
   },
   {
    "duration": 46,
    "start_time": "2021-10-02T08:06:35.953Z"
   },
   {
    "duration": 4,
    "start_time": "2021-10-02T08:06:36.001Z"
   },
   {
    "duration": 485,
    "start_time": "2021-10-02T08:06:36.007Z"
   },
   {
    "duration": 303,
    "start_time": "2021-10-02T08:06:36.495Z"
   },
   {
    "duration": 67,
    "start_time": "2021-10-02T08:06:36.800Z"
   },
   {
    "duration": 116,
    "start_time": "2021-10-02T08:06:36.883Z"
   },
   {
    "duration": 101,
    "start_time": "2021-10-02T08:06:37.002Z"
   },
   {
    "duration": 49,
    "start_time": "2021-10-02T08:06:37.105Z"
   },
   {
    "duration": 25138,
    "start_time": "2021-10-02T08:06:37.157Z"
   },
   {
    "duration": 266,
    "start_time": "2021-10-02T08:07:02.297Z"
   },
   {
    "duration": 47,
    "start_time": "2021-10-02T08:07:02.566Z"
   },
   {
    "duration": 3,
    "start_time": "2021-10-02T08:07:02.615Z"
   },
   {
    "duration": 437,
    "start_time": "2021-10-02T08:07:02.621Z"
   },
   {
    "duration": 307,
    "start_time": "2021-10-02T08:07:03.061Z"
   },
   {
    "duration": 307,
    "start_time": "2021-10-02T21:12:39.482Z"
   },
   {
    "duration": 1605,
    "start_time": "2021-10-02T21:12:52.429Z"
   },
   {
    "duration": 1117,
    "start_time": "2021-10-02T21:12:54.036Z"
   },
   {
    "duration": 40,
    "start_time": "2021-10-02T21:12:55.155Z"
   },
   {
    "duration": 17,
    "start_time": "2021-10-02T21:12:55.197Z"
   },
   {
    "duration": 480,
    "start_time": "2021-10-02T21:12:55.216Z"
   },
   {
    "duration": 320,
    "start_time": "2021-10-02T21:12:55.699Z"
   },
   {
    "duration": 76,
    "start_time": "2021-10-02T21:12:56.021Z"
   },
   {
    "duration": 119,
    "start_time": "2021-10-02T21:12:56.100Z"
   },
   {
    "duration": 131,
    "start_time": "2021-10-02T21:12:56.223Z"
   },
   {
    "duration": 52,
    "start_time": "2021-10-02T21:12:56.361Z"
   },
   {
    "duration": 24959,
    "start_time": "2021-10-02T21:12:56.416Z"
   },
   {
    "duration": 303,
    "start_time": "2021-10-02T21:13:21.377Z"
   },
   {
    "duration": 42,
    "start_time": "2021-10-02T21:13:21.684Z"
   },
   {
    "duration": 3,
    "start_time": "2021-10-02T21:13:21.729Z"
   },
   {
    "duration": 356,
    "start_time": "2021-10-02T21:13:21.734Z"
   },
   {
    "duration": 204,
    "start_time": "2021-10-02T21:13:22.093Z"
   },
   {
    "duration": 3,
    "start_time": "2021-10-02T21:13:22.300Z"
   },
   {
    "duration": 6,
    "start_time": "2021-10-02T21:17:11.087Z"
   },
   {
    "duration": 12,
    "start_time": "2021-10-02T21:17:23.474Z"
   },
   {
    "duration": 104,
    "start_time": "2021-10-02T21:18:06.418Z"
   },
   {
    "duration": 20,
    "start_time": "2021-10-02T21:18:24.115Z"
   },
   {
    "duration": 18,
    "start_time": "2021-10-02T21:21:06.727Z"
   },
   {
    "duration": 220,
    "start_time": "2021-10-02T21:21:29.023Z"
   },
   {
    "duration": 72,
    "start_time": "2021-10-02T21:22:20.785Z"
   },
   {
    "duration": 685,
    "start_time": "2021-10-02T21:22:35.423Z"
   },
   {
    "duration": 125,
    "start_time": "2021-10-02T21:22:51.779Z"
   },
   {
    "duration": 731,
    "start_time": "2021-10-02T21:22:58.434Z"
   },
   {
    "duration": 182,
    "start_time": "2021-10-02T21:23:20.219Z"
   },
   {
    "duration": 637,
    "start_time": "2021-10-02T21:23:25.083Z"
   },
   {
    "duration": 270,
    "start_time": "2021-10-02T21:24:18.964Z"
   },
   {
    "duration": 305,
    "start_time": "2021-10-02T21:25:13.080Z"
   },
   {
    "duration": 299,
    "start_time": "2021-10-02T21:25:19.609Z"
   },
   {
    "duration": 101,
    "start_time": "2021-10-02T21:25:41.067Z"
   },
   {
    "duration": 271,
    "start_time": "2021-10-02T21:25:48.566Z"
   },
   {
    "duration": 281,
    "start_time": "2021-10-02T21:26:29.593Z"
   },
   {
    "duration": 280,
    "start_time": "2021-10-02T21:27:12.514Z"
   },
   {
    "duration": 17,
    "start_time": "2021-10-02T21:28:06.607Z"
   },
   {
    "duration": 244,
    "start_time": "2021-10-02T21:28:56.323Z"
   },
   {
    "duration": 322,
    "start_time": "2021-10-02T21:29:50.044Z"
   },
   {
    "duration": 75,
    "start_time": "2021-10-02T21:29:59.257Z"
   },
   {
    "duration": 102,
    "start_time": "2021-10-02T21:30:06.945Z"
   },
   {
    "duration": 7,
    "start_time": "2021-10-02T21:36:31.888Z"
   },
   {
    "duration": 23,
    "start_time": "2021-10-02T21:36:43.904Z"
   },
   {
    "duration": 16,
    "start_time": "2021-10-02T21:37:33.766Z"
   },
   {
    "duration": 1472,
    "start_time": "2021-10-02T21:37:59.324Z"
   },
   {
    "duration": 1153,
    "start_time": "2021-10-02T21:38:00.799Z"
   },
   {
    "duration": 42,
    "start_time": "2021-10-02T21:38:01.955Z"
   },
   {
    "duration": 33,
    "start_time": "2021-10-02T21:38:02.000Z"
   },
   {
    "duration": 478,
    "start_time": "2021-10-02T21:38:02.036Z"
   },
   {
    "duration": 326,
    "start_time": "2021-10-02T21:38:02.516Z"
   },
   {
    "duration": 76,
    "start_time": "2021-10-02T21:38:02.845Z"
   },
   {
    "duration": 106,
    "start_time": "2021-10-02T21:38:02.926Z"
   },
   {
    "duration": 117,
    "start_time": "2021-10-02T21:38:03.036Z"
   },
   {
    "duration": 46,
    "start_time": "2021-10-02T21:38:03.161Z"
   },
   {
    "duration": 23002,
    "start_time": "2021-10-02T21:38:03.210Z"
   },
   {
    "duration": 334,
    "start_time": "2021-10-02T21:38:26.214Z"
   },
   {
    "duration": 29,
    "start_time": "2021-10-02T21:38:26.551Z"
   },
   {
    "duration": 21,
    "start_time": "2021-10-02T21:38:26.583Z"
   },
   {
    "duration": 395,
    "start_time": "2021-10-02T21:38:26.607Z"
   },
   {
    "duration": 12723,
    "start_time": "2021-10-02T21:38:14.282Z"
   },
   {
    "duration": 12696,
    "start_time": "2021-10-02T21:38:14.310Z"
   },
   {
    "duration": 12663,
    "start_time": "2021-10-02T21:38:14.344Z"
   },
   {
    "duration": 12489,
    "start_time": "2021-10-02T21:38:14.520Z"
   },
   {
    "duration": 242,
    "start_time": "2021-10-02T21:42:25.135Z"
   },
   {
    "duration": 260,
    "start_time": "2021-10-02T21:43:16.543Z"
   },
   {
    "duration": 262,
    "start_time": "2021-10-02T21:43:33.062Z"
   },
   {
    "duration": 18,
    "start_time": "2021-10-02T21:43:41.740Z"
   },
   {
    "duration": 23,
    "start_time": "2021-10-02T21:47:06.962Z"
   },
   {
    "duration": 189,
    "start_time": "2021-10-02T21:47:17.979Z"
   },
   {
    "duration": 234,
    "start_time": "2021-10-02T21:47:35.829Z"
   },
   {
    "duration": 1473,
    "start_time": "2021-10-02T21:47:56.636Z"
   },
   {
    "duration": 1124,
    "start_time": "2021-10-02T21:47:58.112Z"
   },
   {
    "duration": 43,
    "start_time": "2021-10-02T21:47:59.240Z"
   },
   {
    "duration": 3,
    "start_time": "2021-10-02T21:47:59.285Z"
   },
   {
    "duration": 494,
    "start_time": "2021-10-02T21:47:59.291Z"
   },
   {
    "duration": 314,
    "start_time": "2021-10-02T21:47:59.788Z"
   },
   {
    "duration": 83,
    "start_time": "2021-10-02T21:48:00.104Z"
   },
   {
    "duration": 115,
    "start_time": "2021-10-02T21:48:00.191Z"
   },
   {
    "duration": 116,
    "start_time": "2021-10-02T21:48:00.311Z"
   },
   {
    "duration": 62,
    "start_time": "2021-10-02T21:48:00.431Z"
   },
   {
    "duration": 22838,
    "start_time": "2021-10-02T21:48:00.496Z"
   },
   {
    "duration": 266,
    "start_time": "2021-10-02T21:48:23.337Z"
   },
   {
    "duration": 18,
    "start_time": "2021-10-02T21:48:23.606Z"
   },
   {
    "duration": 47,
    "start_time": "2021-10-02T21:48:23.627Z"
   },
   {
    "duration": 26,
    "start_time": "2021-10-02T21:48:23.677Z"
   },
   {
    "duration": 4,
    "start_time": "2021-10-02T21:48:23.706Z"
   },
   {
    "duration": 493,
    "start_time": "2021-10-02T21:48:23.713Z"
   },
   {
    "duration": 325,
    "start_time": "2021-10-02T21:48:24.209Z"
   },
   {
    "duration": 3,
    "start_time": "2021-10-02T21:48:24.537Z"
   },
   {
    "duration": 326,
    "start_time": "2021-10-02T21:48:57.854Z"
   },
   {
    "duration": 256,
    "start_time": "2021-10-02T21:54:40.281Z"
   },
   {
    "duration": 198,
    "start_time": "2021-10-02T21:54:52.866Z"
   },
   {
    "duration": 227,
    "start_time": "2021-10-02T21:55:04.412Z"
   },
   {
    "duration": 19,
    "start_time": "2021-10-02T21:55:13.751Z"
   },
   {
    "duration": 95311,
    "start_time": "2021-10-02T21:56:00.884Z"
   },
   {
    "duration": 6805,
    "start_time": "2021-10-03T12:33:23.349Z"
   },
   {
    "duration": 7202,
    "start_time": "2021-10-03T12:33:30.245Z"
   },
   {
    "duration": 204,
    "start_time": "2021-10-03T12:33:37.449Z"
   },
   {
    "duration": 4,
    "start_time": "2021-10-03T12:33:37.749Z"
   },
   {
    "duration": 3000,
    "start_time": "2021-10-03T12:33:37.755Z"
   },
   {
    "duration": 1504,
    "start_time": "2021-10-03T12:33:40.845Z"
   },
   {
    "duration": 601,
    "start_time": "2021-10-03T12:33:42.352Z"
   },
   {
    "duration": 597,
    "start_time": "2021-10-03T12:33:43.046Z"
   },
   {
    "duration": 701,
    "start_time": "2021-10-03T12:33:43.646Z"
   },
   {
    "duration": 215,
    "start_time": "2021-10-03T12:33:44.349Z"
   },
   {
    "duration": 54904,
    "start_time": "2021-10-03T12:33:44.649Z"
   },
   {
    "duration": 2101,
    "start_time": "2021-10-03T12:34:39.645Z"
   },
   {
    "duration": 104,
    "start_time": "2021-10-03T12:34:41.748Z"
   },
   {
    "duration": 108,
    "start_time": "2021-10-03T12:34:41.944Z"
   },
   {
    "duration": 202,
    "start_time": "2021-10-03T12:34:42.145Z"
   },
   {
    "duration": 3,
    "start_time": "2021-10-03T12:34:42.349Z"
   },
   {
    "duration": 198,
    "start_time": "2021-10-03T12:34:42.353Z"
   },
   {
    "duration": 549003,
    "start_time": "2021-10-03T12:34:42.554Z"
   },
   {
    "duration": 10,
    "start_time": "2021-10-03T12:43:51.644Z"
   },
   {
    "duration": 101,
    "start_time": "2021-10-03T12:44:13.047Z"
   },
   {
    "duration": 1016,
    "start_time": "2021-10-03T12:44:28.145Z"
   },
   {
    "duration": 1206,
    "start_time": "2021-10-03T12:45:16.545Z"
   },
   {
    "duration": 1406,
    "start_time": "2021-10-03T12:47:56.845Z"
   },
   {
    "duration": 1501,
    "start_time": "2021-10-03T12:48:51.445Z"
   },
   {
    "duration": 1203,
    "start_time": "2021-10-03T12:50:46.244Z"
   },
   {
    "duration": 1405,
    "start_time": "2021-10-03T12:51:45.644Z"
   },
   {
    "duration": 1406,
    "start_time": "2021-10-03T12:52:39.945Z"
   },
   {
    "duration": 1207,
    "start_time": "2021-10-03T12:55:15.545Z"
   },
   {
    "duration": 1212,
    "start_time": "2021-10-03T12:55:56.245Z"
   },
   {
    "duration": 1408,
    "start_time": "2021-10-03T12:56:17.845Z"
   },
   {
    "duration": 441,
    "start_time": "2021-10-03T12:59:13.382Z"
   },
   {
    "duration": 999,
    "start_time": "2021-10-03T13:01:00.446Z"
   },
   {
    "duration": 1301,
    "start_time": "2021-10-03T13:01:21.445Z"
   },
   {
    "duration": 1303,
    "start_time": "2021-10-03T13:01:56.845Z"
   },
   {
    "duration": 3003,
    "start_time": "2021-10-03T13:17:48.246Z"
   },
   {
    "duration": 1404,
    "start_time": "2021-10-03T13:18:14.045Z"
   },
   {
    "duration": 45808,
    "start_time": "2021-10-03T13:21:24.644Z"
   },
   {
    "duration": 1204,
    "start_time": "2021-10-03T13:43:29.546Z"
   },
   {
    "duration": 3501,
    "start_time": "2021-10-03T13:45:14.350Z"
   },
   {
    "duration": 1608,
    "start_time": "2021-10-03T13:47:21.945Z"
   },
   {
    "duration": 1508,
    "start_time": "2021-10-03T13:47:34.845Z"
   },
   {
    "duration": 4,
    "start_time": "2021-10-03T13:55:46.146Z"
   },
   {
    "duration": 1997,
    "start_time": "2021-10-03T13:55:46.846Z"
   },
   {
    "duration": 1011,
    "start_time": "2021-10-03T13:56:09.946Z"
   },
   {
    "duration": 899,
    "start_time": "2021-10-03T13:56:16.746Z"
   },
   {
    "duration": 1389,
    "start_time": "2021-10-04T06:44:57.916Z"
   },
   {
    "duration": 1107,
    "start_time": "2021-10-04T06:44:59.308Z"
   },
   {
    "duration": 35,
    "start_time": "2021-10-04T06:45:00.418Z"
   },
   {
    "duration": 28,
    "start_time": "2021-10-04T06:45:00.456Z"
   },
   {
    "duration": 474,
    "start_time": "2021-10-04T06:45:00.486Z"
   },
   {
    "duration": 327,
    "start_time": "2021-10-04T06:45:00.963Z"
   },
   {
    "duration": 111,
    "start_time": "2021-10-04T06:45:01.293Z"
   },
   {
    "duration": 147,
    "start_time": "2021-10-04T06:45:01.409Z"
   },
   {
    "duration": 111,
    "start_time": "2021-10-04T06:45:01.560Z"
   },
   {
    "duration": 59,
    "start_time": "2021-10-04T06:45:01.674Z"
   },
   {
    "duration": 25376,
    "start_time": "2021-10-04T06:45:01.736Z"
   },
   {
    "duration": 15004,
    "start_time": "2021-10-04T06:45:12.112Z"
   },
   {
    "duration": 15000,
    "start_time": "2021-10-04T06:45:12.118Z"
   },
   {
    "duration": 14996,
    "start_time": "2021-10-04T06:45:12.123Z"
   },
   {
    "duration": 14989,
    "start_time": "2021-10-04T06:45:12.132Z"
   },
   {
    "duration": 14986,
    "start_time": "2021-10-04T06:45:12.136Z"
   },
   {
    "duration": 14982,
    "start_time": "2021-10-04T06:45:12.142Z"
   },
   {
    "duration": 14979,
    "start_time": "2021-10-04T06:45:12.146Z"
   },
   {
    "duration": 14973,
    "start_time": "2021-10-04T06:45:12.153Z"
   },
   {
    "duration": 14968,
    "start_time": "2021-10-04T06:45:12.160Z"
   },
   {
    "duration": 24504,
    "start_time": "2021-10-04T06:45:43.512Z"
   },
   {
    "duration": 240,
    "start_time": "2021-10-04T06:46:19.614Z"
   },
   {
    "duration": 19,
    "start_time": "2021-10-04T06:46:22.496Z"
   },
   {
    "duration": 23,
    "start_time": "2021-10-04T06:46:43.725Z"
   },
   {
    "duration": 296,
    "start_time": "2021-10-04T06:47:10.507Z"
   },
   {
    "duration": 31,
    "start_time": "2021-10-04T06:47:22.874Z"
   },
   {
    "duration": 332,
    "start_time": "2021-10-04T06:49:39.741Z"
   },
   {
    "duration": 4,
    "start_time": "2021-10-04T06:49:47.444Z"
   },
   {
    "duration": 152,
    "start_time": "2021-10-04T06:49:50.610Z"
   },
   {
    "duration": 4,
    "start_time": "2021-10-04T07:02:14.204Z"
   },
   {
    "duration": 80,
    "start_time": "2021-10-04T07:03:37.871Z"
   },
   {
    "duration": 7,
    "start_time": "2021-10-04T07:04:04.949Z"
   },
   {
    "duration": 6,
    "start_time": "2021-10-04T07:06:44.723Z"
   },
   {
    "duration": 7,
    "start_time": "2021-10-04T07:06:46.406Z"
   },
   {
    "duration": 264,
    "start_time": "2021-10-04T07:06:49.267Z"
   },
   {
    "duration": 24,
    "start_time": "2021-10-04T07:07:13.053Z"
   },
   {
    "duration": 23,
    "start_time": "2021-10-04T07:07:20.918Z"
   },
   {
    "duration": 9,
    "start_time": "2021-10-04T07:07:51.988Z"
   },
   {
    "duration": 7,
    "start_time": "2021-10-04T07:08:22.604Z"
   },
   {
    "duration": 14,
    "start_time": "2021-10-04T07:08:43.475Z"
   },
   {
    "duration": 4,
    "start_time": "2021-10-04T07:08:58.734Z"
   },
   {
    "duration": 8,
    "start_time": "2021-10-04T07:09:01.197Z"
   },
   {
    "duration": 15,
    "start_time": "2021-10-04T07:09:03.884Z"
   },
   {
    "duration": 9,
    "start_time": "2021-10-04T07:12:12.220Z"
   },
   {
    "duration": 15,
    "start_time": "2021-10-04T07:12:16.543Z"
   },
   {
    "duration": 6,
    "start_time": "2021-10-04T07:12:35.072Z"
   },
   {
    "duration": 5,
    "start_time": "2021-10-04T07:12:37.012Z"
   },
   {
    "duration": 8,
    "start_time": "2021-10-04T07:12:38.906Z"
   },
   {
    "duration": 16,
    "start_time": "2021-10-04T07:12:51.895Z"
   },
   {
    "duration": 14,
    "start_time": "2021-10-04T07:13:14.835Z"
   },
   {
    "duration": 10,
    "start_time": "2021-10-04T07:13:21.861Z"
   },
   {
    "duration": 15,
    "start_time": "2021-10-04T07:13:24.509Z"
   },
   {
    "duration": 1461,
    "start_time": "2021-10-04T07:13:32.146Z"
   },
   {
    "duration": 1074,
    "start_time": "2021-10-04T07:13:33.610Z"
   },
   {
    "duration": 36,
    "start_time": "2021-10-04T07:13:34.690Z"
   },
   {
    "duration": 8,
    "start_time": "2021-10-04T07:13:34.728Z"
   },
   {
    "duration": 470,
    "start_time": "2021-10-04T07:13:34.739Z"
   },
   {
    "duration": 293,
    "start_time": "2021-10-04T07:13:35.212Z"
   },
   {
    "duration": 73,
    "start_time": "2021-10-04T07:13:35.509Z"
   },
   {
    "duration": 100,
    "start_time": "2021-10-04T07:13:35.585Z"
   },
   {
    "duration": 104,
    "start_time": "2021-10-04T07:13:35.688Z"
   },
   {
    "duration": 46,
    "start_time": "2021-10-04T07:13:35.795Z"
   },
   {
    "duration": 24149,
    "start_time": "2021-10-04T07:13:35.844Z"
   },
   {
    "duration": 6,
    "start_time": "2021-10-04T07:13:59.996Z"
   },
   {
    "duration": 22,
    "start_time": "2021-10-04T07:14:00.006Z"
   },
   {
    "duration": 273,
    "start_time": "2021-10-04T07:14:00.030Z"
   },
   {
    "duration": 17,
    "start_time": "2021-10-04T07:14:00.305Z"
   },
   {
    "duration": 32,
    "start_time": "2021-10-04T07:14:00.325Z"
   },
   {
    "duration": 22,
    "start_time": "2021-10-04T07:14:00.360Z"
   },
   {
    "duration": 421,
    "start_time": "2021-10-04T07:14:00.385Z"
   },
   {
    "duration": 272,
    "start_time": "2021-10-04T07:14:00.810Z"
   },
   {
    "duration": 15064,
    "start_time": "2021-10-04T07:13:46.021Z"
   },
   {
    "duration": 15057,
    "start_time": "2021-10-04T07:13:46.029Z"
   },
   {
    "duration": 15048,
    "start_time": "2021-10-04T07:13:46.039Z"
   },
   {
    "duration": 827,
    "start_time": "2021-10-04T07:14:28.691Z"
   },
   {
    "duration": 3,
    "start_time": "2021-10-04T07:14:53.037Z"
   },
   {
    "duration": 47,
    "start_time": "2021-10-04T07:14:55.135Z"
   },
   {
    "duration": 7,
    "start_time": "2021-10-04T07:15:01.928Z"
   },
   {
    "duration": 4,
    "start_time": "2021-10-04T07:15:05.077Z"
   },
   {
    "duration": 166,
    "start_time": "2021-10-04T07:15:08.378Z"
   },
   {
    "duration": 16,
    "start_time": "2021-10-04T07:15:11.716Z"
   },
   {
    "duration": 24174,
    "start_time": "2021-10-04T07:53:32.943Z"
   },
   {
    "duration": 24214,
    "start_time": "2021-10-04T07:55:34.462Z"
   },
   {
    "duration": 3,
    "start_time": "2021-10-04T08:00:26.120Z"
   },
   {
    "duration": 24838,
    "start_time": "2021-10-04T08:00:28.178Z"
   },
   {
    "duration": 24077,
    "start_time": "2021-10-04T08:02:55.545Z"
   },
   {
    "duration": 4,
    "start_time": "2021-10-04T08:03:33.219Z"
   },
   {
    "duration": 24331,
    "start_time": "2021-10-04T08:03:35.789Z"
   },
   {
    "duration": 5,
    "start_time": "2021-10-04T08:14:38.289Z"
   },
   {
    "duration": 24339,
    "start_time": "2021-10-04T08:14:43.722Z"
   },
   {
    "duration": 24323,
    "start_time": "2021-10-04T08:16:56.326Z"
   },
   {
    "duration": 4,
    "start_time": "2021-10-04T08:17:25.855Z"
   },
   {
    "duration": 48714,
    "start_time": "2021-10-04T08:17:30.175Z"
   },
   {
    "duration": 24252,
    "start_time": "2021-10-04T08:32:32.399Z"
   },
   {
    "duration": 4,
    "start_time": "2021-10-04T08:33:33.951Z"
   },
   {
    "duration": 24524,
    "start_time": "2021-10-04T08:33:37.636Z"
   },
   {
    "duration": 4,
    "start_time": "2021-10-04T08:34:44.555Z"
   },
   {
    "duration": 49030,
    "start_time": "2021-10-04T08:34:46.950Z"
   },
   {
    "duration": 3,
    "start_time": "2021-10-04T08:36:03.282Z"
   },
   {
    "duration": 48529,
    "start_time": "2021-10-04T08:36:05.972Z"
   },
   {
    "duration": 24449,
    "start_time": "2021-10-04T08:37:39.758Z"
   },
   {
    "duration": 4,
    "start_time": "2021-10-04T08:38:10.406Z"
   },
   {
    "duration": 72698,
    "start_time": "2021-10-04T08:38:13.052Z"
   },
   {
    "duration": 3,
    "start_time": "2021-10-04T08:42:14.915Z"
   },
   {
    "duration": 48888,
    "start_time": "2021-10-04T08:42:18.034Z"
   },
   {
    "duration": 24866,
    "start_time": "2021-10-04T08:49:30.550Z"
   },
   {
    "duration": 3,
    "start_time": "2021-10-04T08:50:37.950Z"
   },
   {
    "duration": 48173,
    "start_time": "2021-10-04T08:50:41.800Z"
   },
   {
    "duration": 5,
    "start_time": "2021-10-04T08:54:33.272Z"
   },
   {
    "duration": 5,
    "start_time": "2021-10-04T08:54:45.514Z"
   },
   {
    "duration": 3,
    "start_time": "2021-10-04T08:55:28.622Z"
   },
   {
    "duration": 48254,
    "start_time": "2021-10-04T08:55:30.886Z"
   },
   {
    "duration": 3,
    "start_time": "2021-10-04T08:56:38.416Z"
   },
   {
    "duration": 49664,
    "start_time": "2021-10-04T08:56:40.759Z"
   },
   {
    "duration": 4,
    "start_time": "2021-10-04T09:03:31.187Z"
   },
   {
    "duration": 24756,
    "start_time": "2021-10-04T09:03:33.357Z"
   },
   {
    "duration": 1183,
    "start_time": "2021-10-04T13:47:06.045Z"
   },
   {
    "duration": 785,
    "start_time": "2021-10-04T13:47:07.230Z"
   },
   {
    "duration": 23,
    "start_time": "2021-10-04T13:47:08.017Z"
   },
   {
    "duration": 4,
    "start_time": "2021-10-04T13:47:08.042Z"
   },
   {
    "duration": 336,
    "start_time": "2021-10-04T13:47:08.047Z"
   },
   {
    "duration": 197,
    "start_time": "2021-10-04T13:47:08.385Z"
   },
   {
    "duration": 49,
    "start_time": "2021-10-04T13:47:09.019Z"
   },
   {
    "duration": 79,
    "start_time": "2021-10-04T13:47:09.259Z"
   },
   {
    "duration": 76,
    "start_time": "2021-10-04T13:47:09.740Z"
   },
   {
    "duration": 35,
    "start_time": "2021-10-04T13:47:09.972Z"
   },
   {
    "duration": 2,
    "start_time": "2021-10-04T13:47:11.537Z"
   },
   {
    "duration": 3,
    "start_time": "2021-10-04T13:47:11.721Z"
   },
   {
    "duration": 378,
    "start_time": "2021-10-04T13:48:40.924Z"
   },
   {
    "duration": 307,
    "start_time": "2021-10-04T13:50:11.282Z"
   },
   {
    "duration": 36237,
    "start_time": "2021-10-04T13:50:24.295Z"
   },
   {
    "duration": 9054,
    "start_time": "2021-10-04T14:07:22.601Z"
   },
   {
    "duration": 17155,
    "start_time": "2021-10-04T14:07:45.332Z"
   },
   {
    "duration": 2,
    "start_time": "2021-10-04T14:08:19.599Z"
   },
   {
    "duration": 34646,
    "start_time": "2021-10-04T14:08:23.441Z"
   },
   {
    "duration": 289,
    "start_time": "2021-10-04T14:09:20.643Z"
   },
   {
    "duration": 4,
    "start_time": "2021-10-04T14:09:33.831Z"
   },
   {
    "duration": 5,
    "start_time": "2021-10-04T14:10:21.583Z"
   },
   {
    "duration": 475,
    "start_time": "2021-10-05T07:01:53.940Z"
   },
   {
    "duration": 268,
    "start_time": "2021-10-05T07:01:57.703Z"
   },
   {
    "duration": 242,
    "start_time": "2021-10-05T07:02:03.966Z"
   },
   {
    "duration": 311,
    "start_time": "2021-10-05T07:02:21.086Z"
   },
   {
    "duration": 1472,
    "start_time": "2021-10-05T07:02:28.883Z"
   },
   {
    "duration": 1102,
    "start_time": "2021-10-05T07:02:30.357Z"
   },
   {
    "duration": 36,
    "start_time": "2021-10-05T07:02:31.462Z"
   },
   {
    "duration": 26,
    "start_time": "2021-10-05T07:02:31.501Z"
   },
   {
    "duration": 462,
    "start_time": "2021-10-05T07:02:31.530Z"
   },
   {
    "duration": 295,
    "start_time": "2021-10-05T07:02:31.995Z"
   },
   {
    "duration": 71,
    "start_time": "2021-10-05T07:02:32.292Z"
   },
   {
    "duration": 104,
    "start_time": "2021-10-05T07:02:32.367Z"
   },
   {
    "duration": 115,
    "start_time": "2021-10-05T07:02:32.475Z"
   },
   {
    "duration": 55,
    "start_time": "2021-10-05T07:02:32.593Z"
   },
   {
    "duration": 3,
    "start_time": "2021-10-05T07:02:32.650Z"
   },
   {
    "duration": 58,
    "start_time": "2021-10-05T07:02:32.655Z"
   },
   {
    "duration": 47631,
    "start_time": "2021-10-05T07:02:32.716Z"
   },
   {
    "duration": 93,
    "start_time": "2021-10-05T07:03:20.349Z"
   },
   {
    "duration": 17072,
    "start_time": "2021-10-05T07:03:03.373Z"
   },
   {
    "duration": 17066,
    "start_time": "2021-10-05T07:03:03.380Z"
   },
   {
    "duration": 17063,
    "start_time": "2021-10-05T07:03:03.385Z"
   },
   {
    "duration": 17059,
    "start_time": "2021-10-05T07:03:03.390Z"
   },
   {
    "duration": 17054,
    "start_time": "2021-10-05T07:03:03.397Z"
   },
   {
    "duration": 17037,
    "start_time": "2021-10-05T07:03:03.416Z"
   },
   {
    "duration": 17033,
    "start_time": "2021-10-05T07:03:03.421Z"
   },
   {
    "duration": 17030,
    "start_time": "2021-10-05T07:03:03.425Z"
   },
   {
    "duration": 17027,
    "start_time": "2021-10-05T07:03:03.430Z"
   },
   {
    "duration": 17025,
    "start_time": "2021-10-05T07:03:03.433Z"
   },
   {
    "duration": 17021,
    "start_time": "2021-10-05T07:03:03.438Z"
   },
   {
    "duration": 17018,
    "start_time": "2021-10-05T07:03:03.442Z"
   },
   {
    "duration": 17013,
    "start_time": "2021-10-05T07:03:03.449Z"
   },
   {
    "duration": 17009,
    "start_time": "2021-10-05T07:03:03.454Z"
   },
   {
    "duration": 17005,
    "start_time": "2021-10-05T07:03:03.460Z"
   },
   {
    "duration": 5,
    "start_time": "2021-10-05T07:03:39.538Z"
   },
   {
    "duration": 380,
    "start_time": "2021-10-05T07:03:44.628Z"
   },
   {
    "duration": 6,
    "start_time": "2021-10-05T07:03:47.706Z"
   },
   {
    "duration": 330,
    "start_time": "2021-10-05T07:04:27.641Z"
   },
   {
    "duration": 6,
    "start_time": "2021-10-05T07:04:31.995Z"
   },
   {
    "duration": 4,
    "start_time": "2021-10-05T07:05:09.662Z"
   },
   {
    "duration": 252,
    "start_time": "2021-10-05T07:09:53.190Z"
   },
   {
    "duration": 1667,
    "start_time": "2021-10-05T07:10:06.267Z"
   },
   {
    "duration": 1069,
    "start_time": "2021-10-05T07:10:07.938Z"
   },
   {
    "duration": 44,
    "start_time": "2021-10-05T07:10:09.010Z"
   },
   {
    "duration": 4,
    "start_time": "2021-10-05T07:10:09.058Z"
   },
   {
    "duration": 457,
    "start_time": "2021-10-05T07:10:09.065Z"
   },
   {
    "duration": 292,
    "start_time": "2021-10-05T07:10:09.525Z"
   },
   {
    "duration": 62,
    "start_time": "2021-10-05T07:10:09.820Z"
   },
   {
    "duration": 113,
    "start_time": "2021-10-05T07:10:09.887Z"
   },
   {
    "duration": 107,
    "start_time": "2021-10-05T07:10:10.003Z"
   },
   {
    "duration": 43,
    "start_time": "2021-10-05T07:10:10.122Z"
   },
   {
    "duration": 2,
    "start_time": "2021-10-05T07:10:10.168Z"
   },
   {
    "duration": 26,
    "start_time": "2021-10-05T07:10:10.173Z"
   },
   {
    "duration": 47386,
    "start_time": "2021-10-05T07:10:10.201Z"
   },
   {
    "duration": 5,
    "start_time": "2021-10-05T07:10:57.589Z"
   },
   {
    "duration": 5,
    "start_time": "2021-10-05T07:10:57.622Z"
   },
   {
    "duration": 12,
    "start_time": "2021-10-05T07:10:57.629Z"
   },
   {
    "duration": 258,
    "start_time": "2021-10-05T07:10:57.644Z"
   },
   {
    "duration": 29,
    "start_time": "2021-10-05T07:10:57.904Z"
   },
   {
    "duration": 45,
    "start_time": "2021-10-05T07:10:57.935Z"
   },
   {
    "duration": 3,
    "start_time": "2021-10-05T07:10:57.982Z"
   },
   {
    "duration": 9,
    "start_time": "2021-10-05T07:10:57.987Z"
   },
   {
    "duration": 396,
    "start_time": "2021-10-05T07:10:57.998Z"
   },
   {
    "duration": 17078,
    "start_time": "2021-10-05T07:10:41.318Z"
   },
   {
    "duration": 17076,
    "start_time": "2021-10-05T07:10:41.322Z"
   },
   {
    "duration": 17072,
    "start_time": "2021-10-05T07:10:41.327Z"
   },
   {
    "duration": 17070,
    "start_time": "2021-10-05T07:10:41.331Z"
   },
   {
    "duration": 258,
    "start_time": "2021-10-05T07:11:45.373Z"
   },
   {
    "duration": 269,
    "start_time": "2021-10-05T07:11:50.487Z"
   },
   {
    "duration": 313,
    "start_time": "2021-10-05T07:11:58.580Z"
   },
   {
    "duration": 288,
    "start_time": "2021-10-05T07:12:10.915Z"
   },
   {
    "duration": 319,
    "start_time": "2021-10-05T07:12:46.169Z"
   },
   {
    "duration": 131,
    "start_time": "2021-10-05T07:13:19.296Z"
   },
   {
    "duration": 5,
    "start_time": "2021-10-05T07:15:20.214Z"
   },
   {
    "duration": 272,
    "start_time": "2021-10-05T07:15:56.411Z"
   },
   {
    "duration": 421,
    "start_time": "2021-10-05T07:16:00.761Z"
   },
   {
    "duration": 129,
    "start_time": "2021-10-05T07:16:16.601Z"
   },
   {
    "duration": 7,
    "start_time": "2021-10-05T07:16:20.776Z"
   },
   {
    "duration": 288,
    "start_time": "2021-10-05T07:20:06.993Z"
   },
   {
    "duration": 402,
    "start_time": "2021-10-05T07:20:20.322Z"
   },
   {
    "duration": 426,
    "start_time": "2021-10-05T07:20:30.308Z"
   },
   {
    "duration": 421,
    "start_time": "2021-10-05T07:20:39.165Z"
   },
   {
    "duration": 307,
    "start_time": "2021-10-05T07:20:48.998Z"
   },
   {
    "duration": 9,
    "start_time": "2021-10-05T07:20:55.023Z"
   },
   {
    "duration": 87,
    "start_time": "2021-10-05T07:21:21.838Z"
   },
   {
    "duration": 12,
    "start_time": "2021-10-05T07:21:26.281Z"
   },
   {
    "duration": 1472,
    "start_time": "2021-10-05T07:21:51.779Z"
   },
   {
    "duration": 1076,
    "start_time": "2021-10-05T07:21:53.254Z"
   },
   {
    "duration": 37,
    "start_time": "2021-10-05T07:21:54.333Z"
   },
   {
    "duration": 16,
    "start_time": "2021-10-05T07:21:54.373Z"
   },
   {
    "duration": 470,
    "start_time": "2021-10-05T07:21:54.392Z"
   },
   {
    "duration": 294,
    "start_time": "2021-10-05T07:21:54.865Z"
   },
   {
    "duration": 70,
    "start_time": "2021-10-05T07:21:55.162Z"
   },
   {
    "duration": 110,
    "start_time": "2021-10-05T07:21:55.236Z"
   },
   {
    "duration": 105,
    "start_time": "2021-10-05T07:21:55.349Z"
   },
   {
    "duration": 43,
    "start_time": "2021-10-05T07:21:55.457Z"
   },
   {
    "duration": 20,
    "start_time": "2021-10-05T07:21:55.502Z"
   },
   {
    "duration": 14,
    "start_time": "2021-10-05T07:21:55.525Z"
   },
   {
    "duration": 47780,
    "start_time": "2021-10-05T07:21:55.542Z"
   },
   {
    "duration": 6,
    "start_time": "2021-10-05T07:22:43.325Z"
   },
   {
    "duration": 33,
    "start_time": "2021-10-05T07:22:43.334Z"
   },
   {
    "duration": 48,
    "start_time": "2021-10-05T07:22:43.370Z"
   },
   {
    "duration": 274,
    "start_time": "2021-10-05T07:22:43.421Z"
   },
   {
    "duration": 27,
    "start_time": "2021-10-05T07:22:43.698Z"
   },
   {
    "duration": 60,
    "start_time": "2021-10-05T07:22:43.727Z"
   },
   {
    "duration": 9,
    "start_time": "2021-10-05T07:22:43.789Z"
   },
   {
    "duration": 40,
    "start_time": "2021-10-05T07:22:43.800Z"
   },
   {
    "duration": 180,
    "start_time": "2021-10-05T07:22:43.842Z"
   },
   {
    "duration": 95,
    "start_time": "2021-10-05T07:22:44.029Z"
   },
   {
    "duration": 35,
    "start_time": "2021-10-05T07:22:44.127Z"
   },
   {
    "duration": 333,
    "start_time": "2021-10-05T07:22:44.164Z"
   },
   {
    "duration": 10,
    "start_time": "2021-10-05T07:22:44.500Z"
   },
   {
    "duration": 15,
    "start_time": "2021-10-05T07:22:44.523Z"
   },
   {
    "duration": 1482,
    "start_time": "2021-10-11T07:25:39.112Z"
   }
  ],
  "kernelspec": {
   "display_name": "Python 3 (ipykernel)",
   "language": "python",
   "name": "python3"
  },
  "language_info": {
   "codemirror_mode": {
    "name": "ipython",
    "version": 3
   },
   "file_extension": ".py",
   "mimetype": "text/x-python",
   "name": "python",
   "nbconvert_exporter": "python",
   "pygments_lexer": "ipython3",
   "version": "3.9.5"
  },
  "toc": {
   "base_numbering": 1,
   "nav_menu": {},
   "number_sections": true,
   "sideBar": true,
   "skip_h1_title": true,
   "title_cell": "Table of Contents",
   "title_sidebar": "Contents",
   "toc_cell": false,
   "toc_position": {},
   "toc_section_display": true,
   "toc_window_display": false
  }
 },
 "nbformat": 4,
 "nbformat_minor": 2
}
